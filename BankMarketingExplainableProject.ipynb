{
 "cells": [
  {
   "cell_type": "markdown",
   "metadata": {},
   "source": [
    "\n",
    "___\n",
    "Machine Learning Based Recommendation Systems"
   ]
  },
  {
   "cell_type": "code",
   "execution_count": 1,
   "metadata": {},
   "outputs": [],
   "source": [
    "import warnings\n",
    "warnings.filterwarnings('ignore')"
   ]
  },
  {
   "cell_type": "code",
   "execution_count": 2,
   "metadata": {},
   "outputs": [],
   "source": [
    "import numpy as np\n",
    "import seaborn as sns\n",
    "import pandas as pd\n",
    "import matplotlib.pyplot as plt\n",
    "plt.rc(\"font\", size=14)\n",
    "from sklearn.model_selection import train_test_split\n",
    "import seaborn as sns\n",
    "sns.set(style=\"white\")\n",
    "sns.set(style=\"whitegrid\",color_codes=True)\n",
    "from sklearn.metrics import classification_report\n",
    "from sklearn.preprocessing import Normalizer as Norm\n",
    "from sklearn.preprocessing import OneHotEncoder as OneHot\n",
    "from sklearn.linear_model import LogisticRegression as LR\n",
    "import lale\n",
    "lale.wrap_imported_operators()\n",
    "import lale.datasets.openml\n",
    "from lale.lib.lale import Project\n",
    "from lale.lib.lale import ConcatFeatures as Concat\n",
    "from lale.lib.lale.hyperopt import Hyperopt\n",
    "from sklearn.tree import DecisionTreeClassifier\n",
    "from sklearn.ensemble import ExtraTreesClassifier\n",
    "from sklearn.metrics import matthews_corrcoef, accuracy_score, classification_report"
   ]
  },
  {
   "cell_type": "code",
   "execution_count": 3,
   "metadata": {},
   "outputs": [
    {
     "data": {
      "text/html": [
       "<div>\n",
       "<style scoped>\n",
       "    .dataframe tbody tr th:only-of-type {\n",
       "        vertical-align: middle;\n",
       "    }\n",
       "\n",
       "    .dataframe tbody tr th {\n",
       "        vertical-align: top;\n",
       "    }\n",
       "\n",
       "    .dataframe thead th {\n",
       "        text-align: right;\n",
       "    }\n",
       "</style>\n",
       "<table border=\"1\" class=\"dataframe\">\n",
       "  <thead>\n",
       "    <tr style=\"text-align: right;\">\n",
       "      <th></th>\n",
       "      <th>y</th>\n",
       "      <th>age</th>\n",
       "      <th>job</th>\n",
       "      <th>marital_status</th>\n",
       "      <th>education</th>\n",
       "      <th>default</th>\n",
       "      <th>balance</th>\n",
       "      <th>housing</th>\n",
       "      <th>loan</th>\n",
       "      <th>contact</th>\n",
       "      <th>day</th>\n",
       "      <th>month</th>\n",
       "      <th>duration</th>\n",
       "      <th>campaign</th>\n",
       "      <th>pdays</th>\n",
       "      <th>previous</th>\n",
       "      <th>poutcome</th>\n",
       "    </tr>\n",
       "  </thead>\n",
       "  <tbody>\n",
       "    <tr>\n",
       "      <td>6408</td>\n",
       "      <td>0</td>\n",
       "      <td>35.0</td>\n",
       "      <td>technician</td>\n",
       "      <td>divorced</td>\n",
       "      <td>secondary</td>\n",
       "      <td>no</td>\n",
       "      <td>-199.0</td>\n",
       "      <td>yes</td>\n",
       "      <td>no</td>\n",
       "      <td>unknown</td>\n",
       "      <td>27.0</td>\n",
       "      <td>may</td>\n",
       "      <td>137.0</td>\n",
       "      <td>2.0</td>\n",
       "      <td>-1.0</td>\n",
       "      <td>0.0</td>\n",
       "      <td>unknown</td>\n",
       "    </tr>\n",
       "    <tr>\n",
       "      <td>29701</td>\n",
       "      <td>0</td>\n",
       "      <td>55.0</td>\n",
       "      <td>unemployed</td>\n",
       "      <td>divorced</td>\n",
       "      <td>primary</td>\n",
       "      <td>no</td>\n",
       "      <td>-53.0</td>\n",
       "      <td>no</td>\n",
       "      <td>no</td>\n",
       "      <td>telephone</td>\n",
       "      <td>3.0</td>\n",
       "      <td>feb</td>\n",
       "      <td>225.0</td>\n",
       "      <td>4.0</td>\n",
       "      <td>6.0</td>\n",
       "      <td>3.0</td>\n",
       "      <td>other</td>\n",
       "    </tr>\n",
       "    <tr>\n",
       "      <td>17854</td>\n",
       "      <td>0</td>\n",
       "      <td>44.0</td>\n",
       "      <td>management</td>\n",
       "      <td>married</td>\n",
       "      <td>tertiary</td>\n",
       "      <td>no</td>\n",
       "      <td>4968.0</td>\n",
       "      <td>yes</td>\n",
       "      <td>no</td>\n",
       "      <td>cellular</td>\n",
       "      <td>30.0</td>\n",
       "      <td>jul</td>\n",
       "      <td>76.0</td>\n",
       "      <td>14.0</td>\n",
       "      <td>-1.0</td>\n",
       "      <td>0.0</td>\n",
       "      <td>unknown</td>\n",
       "    </tr>\n",
       "    <tr>\n",
       "      <td>1947</td>\n",
       "      <td>0</td>\n",
       "      <td>59.0</td>\n",
       "      <td>blue-collar</td>\n",
       "      <td>married</td>\n",
       "      <td>secondary</td>\n",
       "      <td>no</td>\n",
       "      <td>1376.0</td>\n",
       "      <td>no</td>\n",
       "      <td>yes</td>\n",
       "      <td>unknown</td>\n",
       "      <td>9.0</td>\n",
       "      <td>may</td>\n",
       "      <td>61.0</td>\n",
       "      <td>4.0</td>\n",
       "      <td>-1.0</td>\n",
       "      <td>0.0</td>\n",
       "      <td>unknown</td>\n",
       "    </tr>\n",
       "    <tr>\n",
       "      <td>43413</td>\n",
       "      <td>0</td>\n",
       "      <td>50.0</td>\n",
       "      <td>management</td>\n",
       "      <td>married</td>\n",
       "      <td>tertiary</td>\n",
       "      <td>no</td>\n",
       "      <td>5108.0</td>\n",
       "      <td>yes</td>\n",
       "      <td>no</td>\n",
       "      <td>cellular</td>\n",
       "      <td>5.0</td>\n",
       "      <td>apr</td>\n",
       "      <td>874.0</td>\n",
       "      <td>2.0</td>\n",
       "      <td>108.0</td>\n",
       "      <td>3.0</td>\n",
       "      <td>success</td>\n",
       "    </tr>\n",
       "  </tbody>\n",
       "</table>\n",
       "</div>"
      ],
      "text/plain": [
       "       y   age          job marital_status  education default  balance  \\\n",
       "6408   0  35.0   technician       divorced  secondary      no   -199.0   \n",
       "29701  0  55.0   unemployed       divorced    primary      no    -53.0   \n",
       "17854  0  44.0   management        married   tertiary      no   4968.0   \n",
       "1947   0  59.0  blue-collar        married  secondary      no   1376.0   \n",
       "43413  0  50.0   management        married   tertiary      no   5108.0   \n",
       "\n",
       "      housing loan    contact   day month  duration  campaign  pdays  \\\n",
       "6408      yes   no    unknown  27.0   may     137.0       2.0   -1.0   \n",
       "29701      no   no  telephone   3.0   feb     225.0       4.0    6.0   \n",
       "17854     yes   no   cellular  30.0   jul      76.0      14.0   -1.0   \n",
       "1947       no  yes    unknown   9.0   may      61.0       4.0   -1.0   \n",
       "43413     yes   no   cellular   5.0   apr     874.0       2.0  108.0   \n",
       "\n",
       "       previous poutcome  \n",
       "6408        0.0  unknown  \n",
       "29701       3.0    other  \n",
       "17854       0.0  unknown  \n",
       "1947        0.0  unknown  \n",
       "43413       3.0  success  "
      ]
     },
     "execution_count": 3,
     "metadata": {},
     "output_type": "execute_result"
    }
   ],
   "source": [
    "(train_X, train_y), (test_X, test_y) = lale.datasets.openml.fetch(\n",
    "    'bank-marketing', 'classification', preprocess=False)\n",
    "# print last five rows of labels in train_y and features in train_X\n",
    "bank_data = pd.concat([pd.DataFrame({'y': train_y}, index=train_X.index),\n",
    "           train_X], axis=1)\n",
    "\n",
    "train_X.rename(columns={'v1':'age','v2':'job','v3':'marital_status', 'v4':'education','v5':'default','v6':'balance',\n",
    "                         'v7':'housing','v8':'loan','v9':'contact','v10':'day','v11':'month','v12':'duration',\n",
    "                          'v13':'campaign','v14':'pdays'  ,'v15':'previous','v16':'poutcome'},inplace=True)\n",
    "\n",
    "bank_data.rename(columns={'v1':'age','v2':'job','v3':'marital_status', 'v4':'education','v5':'default','v6':'balance',\n",
    "                         'v7':'housing','v8':'loan','v9':'contact','v10':'day','v11':'month','v12':'duration',\n",
    "                          'v13':'campaign','v14':'pdays'  ,'v15':'previous','v16':'poutcome'},inplace=True)\n",
    "\n",
    "bank_data.head()"
   ]
  },
  {
   "cell_type": "code",
   "execution_count": 4,
   "metadata": {},
   "outputs": [
    {
     "data": {
      "text/plain": [
       "0    26759\n",
       "1     3532\n",
       "Name: y, dtype: int64"
      ]
     },
     "execution_count": 4,
     "metadata": {},
     "output_type": "execute_result"
    }
   ],
   "source": [
    "bank_data['y'].value_counts()"
   ]
  },
  {
   "cell_type": "code",
   "execution_count": 5,
   "metadata": {},
   "outputs": [
    {
     "data": {
      "text/plain": [
       "(30291, 17)"
      ]
     },
     "execution_count": 5,
     "metadata": {},
     "output_type": "execute_result"
    }
   ],
   "source": [
    "bank_data.shape"
   ]
  },
  {
   "cell_type": "code",
   "execution_count": 6,
   "metadata": {},
   "outputs": [
    {
     "data": {
      "image/png": "[encoded data removed]",
      "text/plain": [
       "<Figure size 432x288 with 1 Axes>"
      ]
     },
     "metadata": {
      "needs_background": "light"
     },
     "output_type": "display_data"
    }
   ],
   "source": [
    "plt.title('Distribution of  term_offer_variable across 1 (offer given ) and 0 (offer not given)')\n",
    "sns.countplot(x='y',data=bank_data)\n",
    "plt.show()\n"
   ]
  },
  {
   "cell_type": "markdown",
   "metadata": {},
   "source": [
    "# As we see here the dataset is highly imbalaced, so some king of oversampling technique for y=0 needs to be applied"
   ]
  },
  {
   "cell_type": "code",
   "execution_count": 7,
   "metadata": {},
   "outputs": [
    {
     "name": "stdout",
     "output_type": "stream",
     "text": [
      "percentage of no subscription is 88.33977088904294\n",
      "percentage of subscription 11.66022911095705\n"
     ]
    }
   ],
   "source": [
    "count_no_sub = len(bank_data[bank_data['y']==0])\n",
    "count_sub = len(bank_data[bank_data['y']==1])\n",
    "pct_of_no_sub = count_no_sub/(count_no_sub+count_sub)\n",
    "print(\"percentage of no subscription is\", pct_of_no_sub*100)\n",
    "pct_of_sub = count_sub/(count_no_sub+count_sub)\n",
    "print(\"percentage of subscription\", pct_of_sub*100)"
   ]
  },
  {
   "cell_type": "code",
   "execution_count": 8,
   "metadata": {},
   "outputs": [
    {
     "data": {
      "text/html": [
       "<div>\n",
       "<style scoped>\n",
       "    .dataframe tbody tr th:only-of-type {\n",
       "        vertical-align: middle;\n",
       "    }\n",
       "\n",
       "    .dataframe tbody tr th {\n",
       "        vertical-align: top;\n",
       "    }\n",
       "\n",
       "    .dataframe thead th {\n",
       "        text-align: right;\n",
       "    }\n",
       "</style>\n",
       "<table border=\"1\" class=\"dataframe\">\n",
       "  <thead>\n",
       "    <tr style=\"text-align: right;\">\n",
       "      <th></th>\n",
       "      <th>age</th>\n",
       "      <th>balance</th>\n",
       "      <th>day</th>\n",
       "      <th>duration</th>\n",
       "      <th>campaign</th>\n",
       "      <th>pdays</th>\n",
       "      <th>previous</th>\n",
       "    </tr>\n",
       "    <tr>\n",
       "      <th>y</th>\n",
       "      <th></th>\n",
       "      <th></th>\n",
       "      <th></th>\n",
       "      <th></th>\n",
       "      <th></th>\n",
       "      <th></th>\n",
       "      <th></th>\n",
       "    </tr>\n",
       "  </thead>\n",
       "  <tbody>\n",
       "    <tr>\n",
       "      <td>0</td>\n",
       "      <td>40.803730</td>\n",
       "      <td>1303.939646</td>\n",
       "      <td>15.882507</td>\n",
       "      <td>219.882133</td>\n",
       "      <td>2.833888</td>\n",
       "      <td>36.580552</td>\n",
       "      <td>0.510146</td>\n",
       "    </tr>\n",
       "    <tr>\n",
       "      <td>1</td>\n",
       "      <td>41.612118</td>\n",
       "      <td>1867.015289</td>\n",
       "      <td>15.103624</td>\n",
       "      <td>542.785957</td>\n",
       "      <td>2.143262</td>\n",
       "      <td>66.556908</td>\n",
       "      <td>1.162797</td>\n",
       "    </tr>\n",
       "  </tbody>\n",
       "</table>\n",
       "</div>"
      ],
      "text/plain": [
       "         age      balance        day    duration  campaign      pdays  \\\n",
       "y                                                                       \n",
       "0  40.803730  1303.939646  15.882507  219.882133  2.833888  36.580552   \n",
       "1  41.612118  1867.015289  15.103624  542.785957  2.143262  66.556908   \n",
       "\n",
       "   previous  \n",
       "y            \n",
       "0  0.510146  \n",
       "1  1.162797  "
      ]
     },
     "execution_count": 8,
     "metadata": {},
     "output_type": "execute_result"
    }
   ],
   "source": [
    "bank_data.groupby('y').mean()"
   ]
  },
  {
   "cell_type": "raw",
   "metadata": {},
   "source": [
    "# This is a lot of information about which clients were offered term deposit offer : Some string information being\n",
    "# Balace is more\n",
    "# Duration being 543 days "
   ]
  },
  {
   "cell_type": "code",
   "execution_count": 9,
   "metadata": {},
   "outputs": [
    {
     "data": {
      "text/plain": [
       "Text(0,0.5,'Frequency of Purchase')"
      ]
     },
     "execution_count": 9,
     "metadata": {},
     "output_type": "execute_result"
    },
    {
     "data": {
      "image/png": "[encoded data removed]",
      "text/plain": [
       "<Figure size 432x288 with 1 Axes>"
      ]
     },
     "metadata": {
      "needs_background": "light"
     },
     "output_type": "display_data"
    }
   ],
   "source": [
    "%matplotlib inline\n",
    "pd.crosstab(bank_data.job,bank_data.y).plot(kind='bar')\n",
    "plt.title('Frequency  for people  to be offered for different Job Title')\n",
    "plt.xlabel('Job')\n",
    "plt.ylabel('Frequency of Purchase')\n"
   ]
  },
  {
   "cell_type": "code",
   "execution_count": 10,
   "metadata": {},
   "outputs": [
    {
     "data": {
      "text/plain": [
       "Text(0,0.5,'Frequency of Purchase')"
      ]
     },
     "execution_count": 10,
     "metadata": {},
     "output_type": "execute_result"
    },
    {
     "data": {
      "image/png": "[encoded data removed]",
      "text/plain": [
       "<Figure size 432x288 with 1 Axes>"
      ]
     },
     "metadata": {
      "needs_background": "light"
     },
     "output_type": "display_data"
    }
   ],
   "source": [
    "%matplotlib inline\n",
    "pd.crosstab(bank_data.housing,bank_data.y).plot(kind='bar')\n",
    "plt.title('Frequency for people  to be offered with housing')\n",
    "plt.xlabel('Housing')\n",
    "plt.ylabel('Frequency of Purchase')"
   ]
  },
  {
   "cell_type": "code",
   "execution_count": 11,
   "metadata": {},
   "outputs": [
    {
     "data": {
      "text/plain": [
       "Text(0,0.5,'Frequency of Purchase')"
      ]
     },
     "execution_count": 11,
     "metadata": {},
     "output_type": "execute_result"
    },
    {
     "data": {
      "image/png": "[encoded data removed]",
      "text/plain": [
       "<Figure size 432x288 with 1 Axes>"
      ]
     },
     "metadata": {
      "needs_background": "light"
     },
     "output_type": "display_data"
    }
   ],
   "source": [
    "%matplotlib inline\n",
    "pd.crosstab(bank_data.poutcome,bank_data.y).plot(kind='bar')\n",
    "plt.title('Frequency for people  to be offered  for poutcome')\n",
    "plt.xlabel('poutcome')\n",
    "plt.ylabel('Frequency of Purchase')"
   ]
  },
  {
   "cell_type": "code",
   "execution_count": 12,
   "metadata": {},
   "outputs": [
    {
     "data": {
      "text/html": [
       "<div>\n",
       "<style scoped>\n",
       "    .dataframe tbody tr th:only-of-type {\n",
       "        vertical-align: middle;\n",
       "    }\n",
       "\n",
       "    .dataframe tbody tr th {\n",
       "        vertical-align: top;\n",
       "    }\n",
       "\n",
       "    .dataframe thead th {\n",
       "        text-align: right;\n",
       "    }\n",
       "</style>\n",
       "<table border=\"1\" class=\"dataframe\">\n",
       "  <thead>\n",
       "    <tr style=\"text-align: right;\">\n",
       "      <th></th>\n",
       "      <th>age</th>\n",
       "      <th>balance</th>\n",
       "      <th>day</th>\n",
       "      <th>duration</th>\n",
       "      <th>campaign</th>\n",
       "      <th>pdays</th>\n",
       "      <th>previous</th>\n",
       "    </tr>\n",
       "  </thead>\n",
       "  <tbody>\n",
       "    <tr>\n",
       "      <td>count</td>\n",
       "      <td>30291.000000</td>\n",
       "      <td>30291.000000</td>\n",
       "      <td>30291.000000</td>\n",
       "      <td>30291.000000</td>\n",
       "      <td>30291.000000</td>\n",
       "      <td>30291.000000</td>\n",
       "      <td>30291.000000</td>\n",
       "    </tr>\n",
       "    <tr>\n",
       "      <td>mean</td>\n",
       "      <td>40.897990</td>\n",
       "      <td>1369.595556</td>\n",
       "      <td>15.791687</td>\n",
       "      <td>257.533459</td>\n",
       "      <td>2.753359</td>\n",
       "      <td>40.075864</td>\n",
       "      <td>0.586247</td>\n",
       "    </tr>\n",
       "    <tr>\n",
       "      <td>std</td>\n",
       "      <td>10.599895</td>\n",
       "      <td>3060.624771</td>\n",
       "      <td>8.315021</td>\n",
       "      <td>258.061711</td>\n",
       "      <td>3.080704</td>\n",
       "      <td>100.084915</td>\n",
       "      <td>2.492242</td>\n",
       "    </tr>\n",
       "    <tr>\n",
       "      <td>min</td>\n",
       "      <td>18.000000</td>\n",
       "      <td>-8019.000000</td>\n",
       "      <td>1.000000</td>\n",
       "      <td>0.000000</td>\n",
       "      <td>1.000000</td>\n",
       "      <td>-1.000000</td>\n",
       "      <td>0.000000</td>\n",
       "    </tr>\n",
       "    <tr>\n",
       "      <td>25%</td>\n",
       "      <td>33.000000</td>\n",
       "      <td>73.000000</td>\n",
       "      <td>8.000000</td>\n",
       "      <td>103.000000</td>\n",
       "      <td>1.000000</td>\n",
       "      <td>-1.000000</td>\n",
       "      <td>0.000000</td>\n",
       "    </tr>\n",
       "    <tr>\n",
       "      <td>50%</td>\n",
       "      <td>39.000000</td>\n",
       "      <td>452.000000</td>\n",
       "      <td>16.000000</td>\n",
       "      <td>179.000000</td>\n",
       "      <td>2.000000</td>\n",
       "      <td>-1.000000</td>\n",
       "      <td>0.000000</td>\n",
       "    </tr>\n",
       "    <tr>\n",
       "      <td>75%</td>\n",
       "      <td>48.000000</td>\n",
       "      <td>1430.000000</td>\n",
       "      <td>21.000000</td>\n",
       "      <td>318.000000</td>\n",
       "      <td>3.000000</td>\n",
       "      <td>-1.000000</td>\n",
       "      <td>0.000000</td>\n",
       "    </tr>\n",
       "    <tr>\n",
       "      <td>max</td>\n",
       "      <td>95.000000</td>\n",
       "      <td>98417.000000</td>\n",
       "      <td>31.000000</td>\n",
       "      <td>4918.000000</td>\n",
       "      <td>58.000000</td>\n",
       "      <td>871.000000</td>\n",
       "      <td>275.000000</td>\n",
       "    </tr>\n",
       "  </tbody>\n",
       "</table>\n",
       "</div>"
      ],
      "text/plain": [
       "                age       balance           day      duration      campaign  \\\n",
       "count  30291.000000  30291.000000  30291.000000  30291.000000  30291.000000   \n",
       "mean      40.897990   1369.595556     15.791687    257.533459      2.753359   \n",
       "std       10.599895   3060.624771      8.315021    258.061711      3.080704   \n",
       "min       18.000000  -8019.000000      1.000000      0.000000      1.000000   \n",
       "25%       33.000000     73.000000      8.000000    103.000000      1.000000   \n",
       "50%       39.000000    452.000000     16.000000    179.000000      2.000000   \n",
       "75%       48.000000   1430.000000     21.000000    318.000000      3.000000   \n",
       "max       95.000000  98417.000000     31.000000   4918.000000     58.000000   \n",
       "\n",
       "              pdays      previous  \n",
       "count  30291.000000  30291.000000  \n",
       "mean      40.075864      0.586247  \n",
       "std      100.084915      2.492242  \n",
       "min       -1.000000      0.000000  \n",
       "25%       -1.000000      0.000000  \n",
       "50%       -1.000000      0.000000  \n",
       "75%       -1.000000      0.000000  \n",
       "max      871.000000    275.000000  "
      ]
     },
     "execution_count": 12,
     "metadata": {},
     "output_type": "execute_result"
    }
   ],
   "source": [
    "train_X.describe()"
   ]
  },
  {
   "cell_type": "code",
   "execution_count": 13,
   "metadata": {},
   "outputs": [
    {
     "data": {
      "text/plain": [
       "<matplotlib.axes._subplots.AxesSubplot at 0x1a19e74f60>"
      ]
     },
     "execution_count": 13,
     "metadata": {},
     "output_type": "execute_result"
    },
    {
     "data": {
      "image/png": "[encoded data removed]",
      "text/plain": [
       "<Figure size 432x288 with 2 Axes>"
      ]
     },
     "metadata": {
      "needs_background": "light"
     },
     "output_type": "display_data"
    }
   ],
   "source": [
    "plt.title('Heatmap of correlated features in the dataset')\n",
    "sns.heatmap(train_X.corr())"
   ]
  },
  {
   "cell_type": "code",
   "execution_count": 14,
   "metadata": {},
   "outputs": [
    {
     "data": {
      "text/html": [
       "<div>\n",
       "<style scoped>\n",
       "    .dataframe tbody tr th:only-of-type {\n",
       "        vertical-align: middle;\n",
       "    }\n",
       "\n",
       "    .dataframe tbody tr th {\n",
       "        vertical-align: top;\n",
       "    }\n",
       "\n",
       "    .dataframe thead tr th {\n",
       "        text-align: left;\n",
       "    }\n",
       "</style>\n",
       "<table border=\"1\" class=\"dataframe\">\n",
       "  <thead>\n",
       "    <tr>\n",
       "      <th></th>\n",
       "      <th>P1</th>\n",
       "      <th>P2</th>\n",
       "      <th>Value</th>\n",
       "    </tr>\n",
       "  </thead>\n",
       "  <tbody>\n",
       "    <tr>\n",
       "      <td>0</td>\n",
       "      <td>balance</td>\n",
       "      <td>housing</td>\n",
       "      <td>0.42769</td>\n",
       "    </tr>\n",
       "    <tr>\n",
       "      <td>1</td>\n",
       "      <td>y</td>\n",
       "      <td>education</td>\n",
       "      <td>0.401595</td>\n",
       "    </tr>\n",
       "    <tr>\n",
       "      <td>2</td>\n",
       "      <td>marital_status</td>\n",
       "      <td>default</td>\n",
       "      <td>0.166029</td>\n",
       "    </tr>\n",
       "    <tr>\n",
       "      <td>3</td>\n",
       "      <td>age</td>\n",
       "      <td>job</td>\n",
       "      <td>0.105141</td>\n",
       "    </tr>\n",
       "    <tr>\n",
       "      <td>4</td>\n",
       "      <td>y</td>\n",
       "      <td>balance</td>\n",
       "      <td>0.0961278</td>\n",
       "    </tr>\n",
       "    <tr>\n",
       "      <td>5</td>\n",
       "      <td>y</td>\n",
       "      <td>housing</td>\n",
       "      <td>0.0840484</td>\n",
       "    </tr>\n",
       "    <tr>\n",
       "      <td>6</td>\n",
       "      <td>y</td>\n",
       "      <td>job</td>\n",
       "      <td>0.0590467</td>\n",
       "    </tr>\n",
       "    <tr>\n",
       "      <td>7</td>\n",
       "      <td>y</td>\n",
       "      <td>age</td>\n",
       "      <td>0.0244769</td>\n",
       "    </tr>\n",
       "    <tr>\n",
       "      <td>8</td>\n",
       "      <td>job</td>\n",
       "      <td>education</td>\n",
       "      <td>0.0210854</td>\n",
       "    </tr>\n",
       "    <tr>\n",
       "      <td>9</td>\n",
       "      <td>job</td>\n",
       "      <td>housing</td>\n",
       "      <td>0.0167161</td>\n",
       "    </tr>\n",
       "    <tr>\n",
       "      <td>10</td>\n",
       "      <td>age</td>\n",
       "      <td>default</td>\n",
       "      <td>0.00775624</td>\n",
       "    </tr>\n",
       "    <tr>\n",
       "      <td>11</td>\n",
       "      <td>job</td>\n",
       "      <td>marital_status</td>\n",
       "      <td>0.00426435</td>\n",
       "    </tr>\n",
       "    <tr>\n",
       "      <td>12</td>\n",
       "      <td>age</td>\n",
       "      <td>housing</td>\n",
       "      <td>0.00316864</td>\n",
       "    </tr>\n",
       "    <tr>\n",
       "      <td>13</td>\n",
       "      <td>job</td>\n",
       "      <td>balance</td>\n",
       "      <td>0.000916734</td>\n",
       "    </tr>\n",
       "    <tr>\n",
       "      <td>14</td>\n",
       "      <td>education</td>\n",
       "      <td>housing</td>\n",
       "      <td>-0.0021389</td>\n",
       "    </tr>\n",
       "    <tr>\n",
       "      <td>15</td>\n",
       "      <td>education</td>\n",
       "      <td>balance</td>\n",
       "      <td>-0.00524809</td>\n",
       "    </tr>\n",
       "    <tr>\n",
       "      <td>16</td>\n",
       "      <td>age</td>\n",
       "      <td>education</td>\n",
       "      <td>-0.00650861</td>\n",
       "    </tr>\n",
       "    <tr>\n",
       "      <td>17</td>\n",
       "      <td>age</td>\n",
       "      <td>marital_status</td>\n",
       "      <td>-0.00899899</td>\n",
       "    </tr>\n",
       "    <tr>\n",
       "      <td>18</td>\n",
       "      <td>age</td>\n",
       "      <td>balance</td>\n",
       "      <td>-0.0186122</td>\n",
       "    </tr>\n",
       "    <tr>\n",
       "      <td>19</td>\n",
       "      <td>job</td>\n",
       "      <td>default</td>\n",
       "      <td>-0.0189405</td>\n",
       "    </tr>\n",
       "    <tr>\n",
       "      <td>20</td>\n",
       "      <td>y</td>\n",
       "      <td>marital_status</td>\n",
       "      <td>-0.0300641</td>\n",
       "    </tr>\n",
       "    <tr>\n",
       "      <td>21</td>\n",
       "      <td>default</td>\n",
       "      <td>housing</td>\n",
       "      <td>-0.0303882</td>\n",
       "    </tr>\n",
       "    <tr>\n",
       "      <td>22</td>\n",
       "      <td>marital_status</td>\n",
       "      <td>education</td>\n",
       "      <td>-0.0345837</td>\n",
       "    </tr>\n",
       "    <tr>\n",
       "      <td>23</td>\n",
       "      <td>marital_status</td>\n",
       "      <td>housing</td>\n",
       "      <td>-0.0500904</td>\n",
       "    </tr>\n",
       "    <tr>\n",
       "      <td>24</td>\n",
       "      <td>y</td>\n",
       "      <td>default</td>\n",
       "      <td>-0.0719502</td>\n",
       "    </tr>\n",
       "    <tr>\n",
       "      <td>25</td>\n",
       "      <td>education</td>\n",
       "      <td>default</td>\n",
       "      <td>-0.0843656</td>\n",
       "    </tr>\n",
       "    <tr>\n",
       "      <td>26</td>\n",
       "      <td>default</td>\n",
       "      <td>balance</td>\n",
       "      <td>-0.0872875</td>\n",
       "    </tr>\n",
       "    <tr>\n",
       "      <td>27</td>\n",
       "      <td>marital_status</td>\n",
       "      <td>balance</td>\n",
       "      <td>-0.0894927</td>\n",
       "    </tr>\n",
       "  </tbody>\n",
       "</table>\n",
       "</div>"
      ],
      "text/plain": [
       "                P1              P2        Value\n",
       "0          balance         housing      0.42769\n",
       "1                y       education     0.401595\n",
       "2   marital_status         default     0.166029\n",
       "3              age             job     0.105141\n",
       "4                y         balance    0.0961278\n",
       "5                y         housing    0.0840484\n",
       "6                y             job    0.0590467\n",
       "7                y             age    0.0244769\n",
       "8              job       education    0.0210854\n",
       "9              job         housing    0.0167161\n",
       "10             age         default   0.00775624\n",
       "11             job  marital_status   0.00426435\n",
       "12             age         housing   0.00316864\n",
       "13             job         balance  0.000916734\n",
       "14       education         housing   -0.0021389\n",
       "15       education         balance  -0.00524809\n",
       "16             age       education  -0.00650861\n",
       "17             age  marital_status  -0.00899899\n",
       "18             age         balance   -0.0186122\n",
       "19             job         default   -0.0189405\n",
       "20               y  marital_status   -0.0300641\n",
       "21         default         housing   -0.0303882\n",
       "22  marital_status       education   -0.0345837\n",
       "23  marital_status         housing   -0.0500904\n",
       "24               y         default   -0.0719502\n",
       "25       education         default   -0.0843656\n",
       "26         default         balance   -0.0872875\n",
       "27  marital_status         balance   -0.0894927"
      ]
     },
     "execution_count": 14,
     "metadata": {},
     "output_type": "execute_result"
    }
   ],
   "source": [
    "def pairwise_corr_rank(df):\n",
    "    corrs = df.corr().values\n",
    "    cols = df.columns\n",
    "    n = corrs.shape[0]\n",
    "    r,c = np.triu_indices(n,1)\n",
    "    idx = corrs[r,c].argsort()\n",
    "    out = np.c_[cols[r[idx]], cols[c[idx]], corrs[r,c][idx]][::-1]\n",
    "    return pd.DataFrame(out, columns=[['P1','P2','Value']])\n",
    "\n",
    "# airwise correlation between two variables in the daatset\n",
    "pairwise_corr_rank(bank_data)"
   ]
  },
  {
   "cell_type": "code",
   "execution_count": 15,
   "metadata": {
    "scrolled": true
   },
   "outputs": [
    {
     "data": {
      "text/plain": [
       "<matplotlib.axes._subplots.AxesSubplot at 0x1a1a48cf60>"
      ]
     },
     "execution_count": 15,
     "metadata": {},
     "output_type": "execute_result"
    },
    {
     "data": {
      "image/png": "[encoded data removed]",
      "text/plain": [
       "<Figure size 432x288 with 1 Axes>"
      ]
     },
     "metadata": {
      "needs_background": "light"
     },
     "output_type": "display_data"
    }
   ],
   "source": [
    "plt.title('Relation between balance and  housing variable')\n",
    "sns.barplot(y='balance',x='housing', data=bank_data)"
   ]
  },
  {
   "cell_type": "code",
   "execution_count": 16,
   "metadata": {},
   "outputs": [
    {
     "data": {
      "text/plain": [
       "<matplotlib.axes._subplots.AxesSubplot at 0x1a19e743c8>"
      ]
     },
     "execution_count": 16,
     "metadata": {},
     "output_type": "execute_result"
    },
    {
     "data": {
      "image/png": "[encoded data removed]",
      "text/plain": [
       "<Figure size 432x288 with 1 Axes>"
      ]
     },
     "metadata": {
      "needs_background": "light"
     },
     "output_type": "display_data"
    }
   ],
   "source": [
    "plt.title('Relation between campaign and  poutcome')\n",
    "sns.barplot(y='campaign',x='poutcome', data=bank_data)"
   ]
  },
  {
   "cell_type": "code",
   "execution_count": 17,
   "metadata": {},
   "outputs": [
    {
     "data": {
      "text/plain": [
       "<matplotlib.axes._subplots.AxesSubplot at 0x1a1a5fb0f0>"
      ]
     },
     "execution_count": 17,
     "metadata": {},
     "output_type": "execute_result"
    },
    {
     "data": {
      "image/png": "[encoded data removed]",
      "text/plain": [
       "<Figure size 432x288 with 1 Axes>"
      ]
     },
     "metadata": {
      "needs_background": "light"
     },
     "output_type": "display_data"
    }
   ],
   "source": [
    "plt.title('Relation between education and  term_offer_variable')\n",
    "sns.barplot(x='education',y='y', data=bank_data)"
   ]
  },
  {
   "cell_type": "code",
   "execution_count": 18,
   "metadata": {},
   "outputs": [
    {
     "data": {
      "text/plain": [
       "<matplotlib.axes._subplots.AxesSubplot at 0x1a1ac84710>"
      ]
     },
     "execution_count": 18,
     "metadata": {},
     "output_type": "execute_result"
    },
    {
     "data": {
      "image/png": "[encoded data removed]",
      "text/plain": [
       "<Figure size 432x288 with 1 Axes>"
      ]
     },
     "metadata": {
      "needs_background": "light"
     },
     "output_type": "display_data"
    }
   ],
   "source": [
    "plt.title('Duration distribution')\n",
    "sns.boxplot(y='duration', data=bank_data)"
   ]
  },
  {
   "cell_type": "code",
   "execution_count": 19,
   "metadata": {},
   "outputs": [],
   "source": [
    "# Preprocessing dataset\n",
    "\n",
    "# numerical variables  --> norm\n",
    "# categorical variable --> one hot encding\n",
    "\n",
    "#separating columns into num and string\n",
    "cols = bank_data.columns\n",
    "num_cols = bank_data._get_numeric_data().columns\n",
    "string_cols = list(set(cols) - set(num_cols))\n",
    "\n",
    "bank_data_copy= bank_data.copy()\n",
    "\n",
    "# normalize numericals columns like age, balance, duration\n",
    "bank_data[num_cols] = bank_data[num_cols].apply(lambda x: (x - x.min()) / (x.max() - x.min()))\n",
    "\n",
    "\n",
    "for var in string_cols:\n",
    "    cat_list='var'+'_'+var\n",
    "    cat_list = pd.get_dummies(bank_data[var], prefix=var)\n",
    "    bank=bank_data.join(cat_list, how='left', lsuffix='_left', rsuffix='_right')\n",
    "    bank_data=bank\n",
    "    \n",
    "data_vars=bank_data.columns.values.tolist()\n",
    "to_keep=[i for i in data_vars if i not in string_cols]\n",
    "\n",
    "bank_data.columns\n",
    "\n",
    "bank_final=bank_data[to_keep]"
   ]
  },
  {
   "cell_type": "markdown",
   "metadata": {},
   "source": [
    "# Baseline LR model\n",
    "\n",
    "Along with accuracy as prediction score, we will use Matthewes coefficient to see the prediction of the model. It takes into account the imbalanced nature of the dataset\n",
    "\n",
    "#(+1 for the coefficient represents a perfect prediction, 0 an average random prediction and -1 and inverse prediction)."
   ]
  },
  {
   "cell_type": "code",
   "execution_count": 20,
   "metadata": {},
   "outputs": [
    {
     "name": "stderr",
     "output_type": "stream",
     "text": [
      "/Users/jaspreetkaur/.local/lib/python3.6/site-packages/sklearn/utils/validation.py:760: DataConversionWarning: A column-vector y was passed when a 1d array was expected. Please change the shape of y to (n_samples, ), for example using ravel().\n",
      "  y = column_or_1d(y, warn=True)\n",
      "/Users/jaspreetkaur/.local/lib/python3.6/site-packages/sklearn/linear_model/_logistic.py:940: ConvergenceWarning: lbfgs failed to converge (status=1):\n",
      "STOP: TOTAL NO. of ITERATIONS REACHED LIMIT.\n",
      "\n",
      "Increase the number of iterations (max_iter) or scale the data as shown in:\n",
      "    https://scikit-learn.org/stable/modules/preprocessing.html\n",
      "Please also refer to the documentation for alternative solver options:\n",
      "    https://scikit-learn.org/stable/modules/linear_model.html#logistic-regression\n",
      "  extra_warning_msg=_LOGISTIC_SOLVER_CONVERGENCE_MSG)\n"
     ]
    },
    {
     "data": {
      "text/plain": [
       "LogisticRegression(C=1.0, class_weight=None, dual=False, fit_intercept=True,\n",
       "                   intercept_scaling=1, l1_ratio=None, max_iter=100,\n",
       "                   multi_class='auto', n_jobs=None, penalty='l2',\n",
       "                   random_state=0, solver='lbfgs', tol=0.0001, verbose=0,\n",
       "                   warm_start=False)"
      ]
     },
     "execution_count": 20,
     "metadata": {},
     "output_type": "execute_result"
    }
   ],
   "source": [
    "# splitting data for training and testing\n",
    "X = bank_final.loc[:, bank_final.columns != 'y']\n",
    "y = bank_final.loc[:, bank_final.columns == 'y']\n",
    "X_train, X_test, y_train, y_test = train_test_split(X, y, test_size=0.2, random_state=0)\n",
    "from sklearn.linear_model import LogisticRegression \n",
    "lr_baseline = LogisticRegression(random_state = 0) \n",
    "lr_baseline.fit(X_train, y_train) "
   ]
  },
  {
   "cell_type": "code",
   "execution_count": 21,
   "metadata": {},
   "outputs": [
    {
     "name": "stdout",
     "output_type": "stream",
     "text": [
      "Accuracy of logistic regression classifier  baseline model on test set: 0.90\n",
      "Matthews correlation coeff 0.4300759992272051\n"
     ]
    }
   ],
   "source": [
    "import sklearn\n",
    "y_pred = lr_baseline.predict(X_test)\n",
    "print('Accuracy of logistic regression classifier  baseline model on test set: {:.2f}'.format(lr_baseline.score(X_test, y_test)))\n",
    "print(f'Matthews correlation coeff {sklearn.metrics.matthews_corrcoef(y_test, y_pred)}')"
   ]
  },
  {
   "cell_type": "markdown",
   "metadata": {},
   "source": [
    "# Sensitivity analysis on the model: PART 1\n",
    "\n",
    "# Here we take a  specific example and see individual effect on this person by changing some of attribute values on model prediction\n"
   ]
  },
  {
   "cell_type": "code",
   "execution_count": 22,
   "metadata": {},
   "outputs": [
    {
     "data": {
      "text/html": [
       "<div>\n",
       "<style scoped>\n",
       "    .dataframe tbody tr th:only-of-type {\n",
       "        vertical-align: middle;\n",
       "    }\n",
       "\n",
       "    .dataframe tbody tr th {\n",
       "        vertical-align: top;\n",
       "    }\n",
       "\n",
       "    .dataframe thead th {\n",
       "        text-align: right;\n",
       "    }\n",
       "</style>\n",
       "<table border=\"1\" class=\"dataframe\">\n",
       "  <thead>\n",
       "    <tr style=\"text-align: right;\">\n",
       "      <th></th>\n",
       "      <th>y</th>\n",
       "      <th>age</th>\n",
       "      <th>balance</th>\n",
       "      <th>day</th>\n",
       "      <th>duration</th>\n",
       "      <th>campaign</th>\n",
       "      <th>pdays</th>\n",
       "      <th>previous</th>\n",
       "      <th>default_no</th>\n",
       "      <th>default_yes</th>\n",
       "      <th>...</th>\n",
       "      <th>education_primary</th>\n",
       "      <th>education_secondary</th>\n",
       "      <th>education_tertiary</th>\n",
       "      <th>education_unknown</th>\n",
       "      <th>loan_no</th>\n",
       "      <th>loan_yes</th>\n",
       "      <th>poutcome_failure</th>\n",
       "      <th>poutcome_other</th>\n",
       "      <th>poutcome_success</th>\n",
       "      <th>poutcome_unknown</th>\n",
       "    </tr>\n",
       "  </thead>\n",
       "  <tbody>\n",
       "    <tr>\n",
       "      <td>6408</td>\n",
       "      <td>0.0</td>\n",
       "      <td>0.220779</td>\n",
       "      <td>0.073471</td>\n",
       "      <td>0.866667</td>\n",
       "      <td>0.027857</td>\n",
       "      <td>0.017544</td>\n",
       "      <td>0.0</td>\n",
       "      <td>0.0</td>\n",
       "      <td>1</td>\n",
       "      <td>0</td>\n",
       "      <td>...</td>\n",
       "      <td>0</td>\n",
       "      <td>1</td>\n",
       "      <td>0</td>\n",
       "      <td>0</td>\n",
       "      <td>1</td>\n",
       "      <td>0</td>\n",
       "      <td>0</td>\n",
       "      <td>0</td>\n",
       "      <td>0</td>\n",
       "      <td>1</td>\n",
       "    </tr>\n",
       "  </tbody>\n",
       "</table>\n",
       "<p>1 rows × 52 columns</p>\n",
       "</div>"
      ],
      "text/plain": [
       "        y       age   balance       day  duration  campaign  pdays  previous  \\\n",
       "6408  0.0  0.220779  0.073471  0.866667  0.027857  0.017544    0.0       0.0   \n",
       "\n",
       "      default_no  default_yes  ...  education_primary  education_secondary  \\\n",
       "6408           1            0  ...                  0                    1   \n",
       "\n",
       "      education_tertiary  education_unknown  loan_no  loan_yes  \\\n",
       "6408                   0                  0        1         0   \n",
       "\n",
       "      poutcome_failure  poutcome_other  poutcome_success  poutcome_unknown  \n",
       "6408                 0               0                 0                 1  \n",
       "\n",
       "[1 rows x 52 columns]"
      ]
     },
     "execution_count": 22,
     "metadata": {},
     "output_type": "execute_result"
    }
   ],
   "source": [
    "row_original = bank_final.loc[[6408]]\n",
    "row_original"
   ]
  },
  {
   "cell_type": "code",
   "execution_count": 23,
   "metadata": {},
   "outputs": [
    {
     "data": {
      "text/html": [
       "<div>\n",
       "<style scoped>\n",
       "    .dataframe tbody tr th:only-of-type {\n",
       "        vertical-align: middle;\n",
       "    }\n",
       "\n",
       "    .dataframe tbody tr th {\n",
       "        vertical-align: top;\n",
       "    }\n",
       "\n",
       "    .dataframe thead th {\n",
       "        text-align: right;\n",
       "    }\n",
       "</style>\n",
       "<table border=\"1\" class=\"dataframe\">\n",
       "  <thead>\n",
       "    <tr style=\"text-align: right;\">\n",
       "      <th></th>\n",
       "      <th>age</th>\n",
       "      <th>balance</th>\n",
       "      <th>day</th>\n",
       "      <th>duration</th>\n",
       "      <th>campaign</th>\n",
       "      <th>pdays</th>\n",
       "      <th>previous</th>\n",
       "      <th>default_no</th>\n",
       "      <th>default_yes</th>\n",
       "      <th>contact_cellular</th>\n",
       "      <th>...</th>\n",
       "      <th>education_primary</th>\n",
       "      <th>education_secondary</th>\n",
       "      <th>education_tertiary</th>\n",
       "      <th>education_unknown</th>\n",
       "      <th>loan_no</th>\n",
       "      <th>loan_yes</th>\n",
       "      <th>poutcome_failure</th>\n",
       "      <th>poutcome_other</th>\n",
       "      <th>poutcome_success</th>\n",
       "      <th>poutcome_unknown</th>\n",
       "    </tr>\n",
       "  </thead>\n",
       "  <tbody>\n",
       "    <tr>\n",
       "      <td>6408</td>\n",
       "      <td>0.220779</td>\n",
       "      <td>0.073471</td>\n",
       "      <td>0.866667</td>\n",
       "      <td>0.027857</td>\n",
       "      <td>0.017544</td>\n",
       "      <td>0.0</td>\n",
       "      <td>0.0</td>\n",
       "      <td>1</td>\n",
       "      <td>0</td>\n",
       "      <td>0</td>\n",
       "      <td>...</td>\n",
       "      <td>0</td>\n",
       "      <td>1</td>\n",
       "      <td>0</td>\n",
       "      <td>0</td>\n",
       "      <td>1</td>\n",
       "      <td>0</td>\n",
       "      <td>0</td>\n",
       "      <td>0</td>\n",
       "      <td>0</td>\n",
       "      <td>1</td>\n",
       "    </tr>\n",
       "  </tbody>\n",
       "</table>\n",
       "<p>1 rows × 51 columns</p>\n",
       "</div>"
      ],
      "text/plain": [
       "           age   balance       day  duration  campaign  pdays  previous  \\\n",
       "6408  0.220779  0.073471  0.866667  0.027857  0.017544    0.0       0.0   \n",
       "\n",
       "      default_no  default_yes  contact_cellular  ...  education_primary  \\\n",
       "6408           1            0                 0  ...                  0   \n",
       "\n",
       "      education_secondary  education_tertiary  education_unknown  loan_no  \\\n",
       "6408                    1                   0                  0        1   \n",
       "\n",
       "      loan_yes  poutcome_failure  poutcome_other  poutcome_success  \\\n",
       "6408         0                 0               0                 0   \n",
       "\n",
       "      poutcome_unknown  \n",
       "6408                 1  \n",
       "\n",
       "[1 rows x 51 columns]"
      ]
     },
     "execution_count": 23,
     "metadata": {},
     "output_type": "execute_result"
    }
   ],
   "source": [
    "# Now take the encoded data at the same index\n",
    "row = bank_final.loc[[6408]]\n",
    "row_X=row.loc[:, row.columns != 'y']\n",
    "row_X"
   ]
  },
  {
   "cell_type": "code",
   "execution_count": 24,
   "metadata": {},
   "outputs": [
    {
     "data": {
      "text/plain": [
       "array([0.])"
      ]
     },
     "execution_count": 24,
     "metadata": {},
     "output_type": "execute_result"
    }
   ],
   "source": [
    "# now we change the age value and check what the model predicts\n",
    "row_X['age'] =0.53\n",
    "y_pred = lr_baseline.predict(row_X)\n",
    "y_pred\n",
    "# so we see that if this person's age doesnt change what the model predicts"
   ]
  },
  {
   "cell_type": "code",
   "execution_count": 25,
   "metadata": {},
   "outputs": [
    {
     "data": {
      "text/plain": [
       "array([1.])"
      ]
     },
     "execution_count": 25,
     "metadata": {},
     "output_type": "execute_result"
    }
   ],
   "source": [
    "#similarly if we change the duration to a higher value and check what the model predicts\n",
    "row = bank_final.loc[[6408]]\n",
    "row_X=row.loc[:, row.columns != 'y']\n",
    "row_X['duration'] = 0.8\n",
    "y_pred = lr_baseline.predict(row_X)\n",
    "y_pred\n",
    "# so we see that if this person stays longer with the bank, they would be given the offer"
   ]
  },
  {
   "cell_type": "code",
   "execution_count": 26,
   "metadata": {},
   "outputs": [
    {
     "data": {
      "text/plain": [
       "array([0.])"
      ]
     },
     "execution_count": 26,
     "metadata": {},
     "output_type": "execute_result"
    }
   ],
   "source": [
    "#similarly if we change the balance to a higher value and check what the model predicts\n",
    "row = bank_final.loc[[6408]]\n",
    "row_X=row.loc[:, row.columns != 'y']\n",
    "row_X['balance'] = 0.9\n",
    "y_pred = lr_baseline.predict(row_X)\n",
    "y_pred\n",
    "# so we see that if this person balance increases with the bank, they wouldn't be given the offer still"
   ]
  },
  {
   "cell_type": "markdown",
   "metadata": {},
   "source": [
    "# Sensitivity analysis on the model : PART 2\n",
    "\n",
    "Now lets increase some of the values to  positive or negative and see how the model behaves\n",
    "\n",
    "1. Age of people reduced to half\n",
    "\n",
    "2. Balance is increased by 10 times\n",
    "\n",
    "3. duration is increased 400 times\n"
   ]
  },
  {
   "cell_type": "code",
   "execution_count": 27,
   "metadata": {},
   "outputs": [
    {
     "name": "stdout",
     "output_type": "stream",
     "text": [
      "Accuracy of logistic regression classifier  baseline model on test set: 0.90\n",
      "Matthews correlation coeff 0.43560986561396375\n"
     ]
    }
   ],
   "source": [
    "X_test_model = X_test.copy()\n",
    "X_test_model['age'] = X_test_model['age']*0.5\n",
    "y_pred = lr_baseline.predict(X_test_model)\n",
    "print('Accuracy of logistic regression classifier  baseline model on test set: {:.2f}'.format(lr_baseline.score(X_test, y_test)))\n",
    "print(f'Matthews correlation coeff {sklearn.metrics.matthews_corrcoef(y_test, y_pred)}')"
   ]
  },
  {
   "cell_type": "code",
   "execution_count": 28,
   "metadata": {},
   "outputs": [
    {
     "name": "stdout",
     "output_type": "stream",
     "text": [
      "Accuracy of logistic regression classifier  baseline model on test set: 0.90\n",
      "Matthews correlation coeff 0.49483871151007597\n"
     ]
    }
   ],
   "source": [
    "bank_data_X_test_model = X_test.copy()\n",
    "X_test_model['balance'] = X_test_model['balance']*10\n",
    "y_pred = lr_baseline.predict(X_test_model)\n",
    "print('Accuracy of logistic regression classifier  baseline model on test set: {:.2f}'.format(lr_baseline.score(X_test, y_test)))\n",
    "print(f'Matthews correlation coeff {sklearn.metrics.matthews_corrcoef(y_test, y_pred)}')"
   ]
  },
  {
   "cell_type": "code",
   "execution_count": 29,
   "metadata": {},
   "outputs": [
    {
     "name": "stdout",
     "output_type": "stream",
     "text": [
      "Accuracy of logistic regression classifier  baseline model on test set: 0.90\n",
      "Matthews correlation coeff 0.004658455567058302\n"
     ]
    }
   ],
   "source": [
    "bank_data_X_test_model = X_test.copy()\n",
    "X_test_model['duration'] = X_test_model['duration']*400\n",
    "y_pred = lr_baseline.predict(X_test_model)\n",
    "print('Accuracy of logistic regression classifier  baseline model on test set: {:.2f}'.format(lr_baseline.score(X_test, y_test)))\n",
    "print(f'Matthews correlation coeff {sklearn.metrics.matthews_corrcoef(y_test, y_pred)}')"
   ]
  },
  {
   "cell_type": "markdown",
   "metadata": {},
   "source": [
    "# Now we will see some individual predicted results to analyse how and why of the model prediction"
   ]
  },
  {
   "cell_type": "code",
   "execution_count": 30,
   "metadata": {},
   "outputs": [
    {
     "data": {
      "text/html": [
       "<div>\n",
       "<style scoped>\n",
       "    .dataframe tbody tr th:only-of-type {\n",
       "        vertical-align: middle;\n",
       "    }\n",
       "\n",
       "    .dataframe tbody tr th {\n",
       "        vertical-align: top;\n",
       "    }\n",
       "\n",
       "    .dataframe thead th {\n",
       "        text-align: right;\n",
       "    }\n",
       "</style>\n",
       "<table border=\"1\" class=\"dataframe\">\n",
       "  <thead>\n",
       "    <tr style=\"text-align: right;\">\n",
       "      <th></th>\n",
       "      <th>y</th>\n",
       "      <th>age</th>\n",
       "      <th>job</th>\n",
       "      <th>marital_status</th>\n",
       "      <th>education</th>\n",
       "      <th>default</th>\n",
       "      <th>balance</th>\n",
       "      <th>housing</th>\n",
       "      <th>loan</th>\n",
       "      <th>contact</th>\n",
       "      <th>day</th>\n",
       "      <th>month</th>\n",
       "      <th>duration</th>\n",
       "      <th>campaign</th>\n",
       "      <th>pdays</th>\n",
       "      <th>previous</th>\n",
       "      <th>poutcome</th>\n",
       "      <th>prediction</th>\n",
       "    </tr>\n",
       "  </thead>\n",
       "  <tbody>\n",
       "    <tr>\n",
       "      <td>0</td>\n",
       "      <td>1</td>\n",
       "      <td>30.0</td>\n",
       "      <td>admin.</td>\n",
       "      <td>single</td>\n",
       "      <td>secondary</td>\n",
       "      <td>no</td>\n",
       "      <td>915.0</td>\n",
       "      <td>yes</td>\n",
       "      <td>no</td>\n",
       "      <td>unknown</td>\n",
       "      <td>27.0</td>\n",
       "      <td>apr</td>\n",
       "      <td>370.0</td>\n",
       "      <td>1.0</td>\n",
       "      <td>-1.0</td>\n",
       "      <td>0.0</td>\n",
       "      <td>unknown</td>\n",
       "      <td>1.0</td>\n",
       "    </tr>\n",
       "    <tr>\n",
       "      <td>1</td>\n",
       "      <td>1</td>\n",
       "      <td>30.0</td>\n",
       "      <td>management</td>\n",
       "      <td>single</td>\n",
       "      <td>tertiary</td>\n",
       "      <td>no</td>\n",
       "      <td>3384.0</td>\n",
       "      <td>no</td>\n",
       "      <td>no</td>\n",
       "      <td>cellular</td>\n",
       "      <td>4.0</td>\n",
       "      <td>jun</td>\n",
       "      <td>578.0</td>\n",
       "      <td>2.0</td>\n",
       "      <td>-1.0</td>\n",
       "      <td>0.0</td>\n",
       "      <td>unknown</td>\n",
       "      <td>1.0</td>\n",
       "    </tr>\n",
       "    <tr>\n",
       "      <td>2</td>\n",
       "      <td>0</td>\n",
       "      <td>41.0</td>\n",
       "      <td>blue-collar</td>\n",
       "      <td>married</td>\n",
       "      <td>primary</td>\n",
       "      <td>no</td>\n",
       "      <td>389.0</td>\n",
       "      <td>yes</td>\n",
       "      <td>no</td>\n",
       "      <td>unknown</td>\n",
       "      <td>16.0</td>\n",
       "      <td>jun</td>\n",
       "      <td>87.0</td>\n",
       "      <td>6.0</td>\n",
       "      <td>-1.0</td>\n",
       "      <td>0.0</td>\n",
       "      <td>unknown</td>\n",
       "      <td>1.0</td>\n",
       "    </tr>\n",
       "    <tr>\n",
       "      <td>3</td>\n",
       "      <td>0</td>\n",
       "      <td>31.0</td>\n",
       "      <td>blue-collar</td>\n",
       "      <td>married</td>\n",
       "      <td>secondary</td>\n",
       "      <td>no</td>\n",
       "      <td>79.0</td>\n",
       "      <td>yes</td>\n",
       "      <td>yes</td>\n",
       "      <td>cellular</td>\n",
       "      <td>23.0</td>\n",
       "      <td>jul</td>\n",
       "      <td>235.0</td>\n",
       "      <td>11.0</td>\n",
       "      <td>-1.0</td>\n",
       "      <td>0.0</td>\n",
       "      <td>unknown</td>\n",
       "      <td>1.0</td>\n",
       "    </tr>\n",
       "    <tr>\n",
       "      <td>4</td>\n",
       "      <td>0</td>\n",
       "      <td>28.0</td>\n",
       "      <td>technician</td>\n",
       "      <td>single</td>\n",
       "      <td>tertiary</td>\n",
       "      <td>no</td>\n",
       "      <td>387.0</td>\n",
       "      <td>yes</td>\n",
       "      <td>no</td>\n",
       "      <td>cellular</td>\n",
       "      <td>28.0</td>\n",
       "      <td>jan</td>\n",
       "      <td>455.0</td>\n",
       "      <td>1.0</td>\n",
       "      <td>-1.0</td>\n",
       "      <td>0.0</td>\n",
       "      <td>unknown</td>\n",
       "      <td>1.0</td>\n",
       "    </tr>\n",
       "  </tbody>\n",
       "</table>\n",
       "</div>"
      ],
      "text/plain": [
       "   y   age          job marital_status  education default  balance housing  \\\n",
       "0  1  30.0       admin.         single  secondary      no    915.0     yes   \n",
       "1  1  30.0   management         single   tertiary      no   3384.0      no   \n",
       "2  0  41.0  blue-collar        married    primary      no    389.0     yes   \n",
       "3  0  31.0  blue-collar        married  secondary      no     79.0     yes   \n",
       "4  0  28.0   technician         single   tertiary      no    387.0     yes   \n",
       "\n",
       "  loan   contact   day month  duration  campaign  pdays  previous poutcome  \\\n",
       "0   no   unknown  27.0   apr     370.0       1.0   -1.0       0.0  unknown   \n",
       "1   no  cellular   4.0   jun     578.0       2.0   -1.0       0.0  unknown   \n",
       "2   no   unknown  16.0   jun      87.0       6.0   -1.0       0.0  unknown   \n",
       "3  yes  cellular  23.0   jul     235.0      11.0   -1.0       0.0  unknown   \n",
       "4   no  cellular  28.0   jan     455.0       1.0   -1.0       0.0  unknown   \n",
       "\n",
       "   prediction  \n",
       "0         1.0  \n",
       "1         1.0  \n",
       "2         1.0  \n",
       "3         1.0  \n",
       "4         1.0  "
      ]
     },
     "execution_count": 30,
     "metadata": {},
     "output_type": "execute_result"
    }
   ],
   "source": [
    "bank_data_with_prediction = pd.concat([X_test, y_test], axis=1)\n",
    "bank_data_with_prediction = pd.merge(bank_data_with_prediction, bank_data_copy, left_index=True, right_index=True)\n",
    "\n",
    "\n",
    "bank_data_with_prediction= bank_data_with_prediction[['y_y', 'age_y',\n",
    "       'job', 'marital_status', 'education', 'default', 'balance_y', 'housing',\n",
    "       'loan', 'contact', 'day_y', 'month', 'duration_y', 'campaign_y',\n",
    "       'pdays_y', 'previous_y', 'poutcome']]\n",
    "bank_data_with_prediction.rename(columns={'y_y': 'y', 'age_y':'age','balance_y':'balance','day_y':'day',\n",
    "                                          'pdays_y':'pdays', 'previous_y':'previous','duration_y':'duration',\n",
    "                                          'campaign_y':'campaign'},inplace=True)\n",
    "\n",
    "bank_data_with_prediction['prediction'] = y_pred\n",
    "bank_data_with_prediction = bank_data_with_prediction.reset_index(drop=True)\n",
    "bank_data_with_prediction.head()"
   ]
  },
  {
   "cell_type": "code",
   "execution_count": 31,
   "metadata": {},
   "outputs": [
    {
     "data": {
      "text/html": [
       "<div>\n",
       "<style scoped>\n",
       "    .dataframe tbody tr th:only-of-type {\n",
       "        vertical-align: middle;\n",
       "    }\n",
       "\n",
       "    .dataframe tbody tr th {\n",
       "        vertical-align: top;\n",
       "    }\n",
       "\n",
       "    .dataframe thead th {\n",
       "        text-align: right;\n",
       "    }\n",
       "</style>\n",
       "<table border=\"1\" class=\"dataframe\">\n",
       "  <thead>\n",
       "    <tr style=\"text-align: right;\">\n",
       "      <th></th>\n",
       "      <th>y</th>\n",
       "      <th>age</th>\n",
       "      <th>balance</th>\n",
       "      <th>day</th>\n",
       "      <th>duration</th>\n",
       "      <th>campaign</th>\n",
       "      <th>pdays</th>\n",
       "      <th>previous</th>\n",
       "    </tr>\n",
       "    <tr>\n",
       "      <th>prediction</th>\n",
       "      <th></th>\n",
       "      <th></th>\n",
       "      <th></th>\n",
       "      <th></th>\n",
       "      <th></th>\n",
       "      <th></th>\n",
       "      <th></th>\n",
       "      <th></th>\n",
       "    </tr>\n",
       "  </thead>\n",
       "  <tbody>\n",
       "    <tr>\n",
       "      <td>0.0</td>\n",
       "      <td>0.00000</td>\n",
       "      <td>53.000000</td>\n",
       "      <td>351.000000</td>\n",
       "      <td>27.000000</td>\n",
       "      <td>0.000000</td>\n",
       "      <td>4.000000</td>\n",
       "      <td>-1.000000</td>\n",
       "      <td>0.000000</td>\n",
       "    </tr>\n",
       "    <tr>\n",
       "      <td>1.0</td>\n",
       "      <td>0.11621</td>\n",
       "      <td>40.833443</td>\n",
       "      <td>1390.003136</td>\n",
       "      <td>15.866953</td>\n",
       "      <td>257.807692</td>\n",
       "      <td>2.722351</td>\n",
       "      <td>40.422747</td>\n",
       "      <td>0.597887</td>\n",
       "    </tr>\n",
       "  </tbody>\n",
       "</table>\n",
       "</div>"
      ],
      "text/plain": [
       "                  y        age      balance        day    duration  campaign  \\\n",
       "prediction                                                                     \n",
       "0.0         0.00000  53.000000   351.000000  27.000000    0.000000  4.000000   \n",
       "1.0         0.11621  40.833443  1390.003136  15.866953  257.807692  2.722351   \n",
       "\n",
       "                pdays  previous  \n",
       "prediction                       \n",
       "0.0         -1.000000  0.000000  \n",
       "1.0         40.422747  0.597887  "
      ]
     },
     "execution_count": 31,
     "metadata": {},
     "output_type": "execute_result"
    }
   ],
   "source": [
    "bank_data_with_prediction.groupby('prediction').mean()"
   ]
  },
  {
   "cell_type": "raw",
   "metadata": {},
   "source": [
    "# so the model is better at providing better idea to provide marketing offers as it goes for longer duration and balance of clients than actual, which is practically sound"
   ]
  },
  {
   "cell_type": "raw",
   "metadata": {},
   "source": [
    "# Now, lets take an example row from a dataset and see the characeteristics of the individual"
   ]
  },
  {
   "cell_type": "code",
   "execution_count": 32,
   "metadata": {
    "scrolled": false
   },
   "outputs": [
    {
     "data": {
      "text/plain": [
       "y                         0\n",
       "age                      50\n",
       "job                  admin.\n",
       "marital_status      married\n",
       "education         secondary\n",
       "default                  no\n",
       "balance                   0\n",
       "housing                 yes\n",
       "loan                    yes\n",
       "contact             unknown\n",
       "day                      26\n",
       "month                   jun\n",
       "duration                626\n",
       "campaign                  2\n",
       "pdays                    -1\n",
       "previous                  0\n",
       "poutcome            unknown\n",
       "prediction                1\n",
       "Name: 450, dtype: object"
      ]
     },
     "execution_count": 32,
     "metadata": {},
     "output_type": "execute_result"
    }
   ],
   "source": [
    "bank_data_with_prediction.iloc[450]"
   ]
  },
  {
   "cell_type": "raw",
   "metadata": {},
   "source": [
    "# here the model predicts correctly as the true value of no offer, and it did right, since the balnace of this person is 0"
   ]
  },
  {
   "cell_type": "code",
   "execution_count": 33,
   "metadata": {},
   "outputs": [
    {
     "data": {
      "text/html": [
       "<div>\n",
       "<style scoped>\n",
       "    .dataframe tbody tr th:only-of-type {\n",
       "        vertical-align: middle;\n",
       "    }\n",
       "\n",
       "    .dataframe tbody tr th {\n",
       "        vertical-align: top;\n",
       "    }\n",
       "\n",
       "    .dataframe thead th {\n",
       "        text-align: right;\n",
       "    }\n",
       "</style>\n",
       "<table border=\"1\" class=\"dataframe\">\n",
       "  <thead>\n",
       "    <tr style=\"text-align: right;\">\n",
       "      <th></th>\n",
       "      <th>y</th>\n",
       "      <th>age</th>\n",
       "      <th>job</th>\n",
       "      <th>marital_status</th>\n",
       "      <th>education</th>\n",
       "      <th>default</th>\n",
       "      <th>balance</th>\n",
       "      <th>housing</th>\n",
       "      <th>loan</th>\n",
       "      <th>contact</th>\n",
       "      <th>day</th>\n",
       "      <th>month</th>\n",
       "      <th>duration</th>\n",
       "      <th>campaign</th>\n",
       "      <th>pdays</th>\n",
       "      <th>previous</th>\n",
       "      <th>poutcome</th>\n",
       "      <th>prediction</th>\n",
       "    </tr>\n",
       "  </thead>\n",
       "  <tbody>\n",
       "  </tbody>\n",
       "</table>\n",
       "</div>"
      ],
      "text/plain": [
       "Empty DataFrame\n",
       "Columns: [y, age, job, marital_status, education, default, balance, housing, loan, contact, day, month, duration, campaign, pdays, previous, poutcome, prediction]\n",
       "Index: []"
      ]
     },
     "execution_count": 33,
     "metadata": {},
     "output_type": "execute_result"
    }
   ],
   "source": [
    "# now lets find cases where the the actula an dprediction dont match and see if the model was right or the actual\n",
    "bank_data_with_prediction.loc[(bank_data_with_prediction['y']==1.0) & (bank_data_with_prediction['prediction'] ==0.0)]\n"
   ]
  },
  {
   "cell_type": "code",
   "execution_count": 34,
   "metadata": {},
   "outputs": [
    {
     "data": {
      "text/plain": [
       "y                        1\n",
       "age                     59\n",
       "job                retired\n",
       "marital_status     married\n",
       "education          primary\n",
       "default                 no\n",
       "balance                363\n",
       "housing                 no\n",
       "loan                    no\n",
       "contact           cellular\n",
       "day                     30\n",
       "month                  apr\n",
       "duration               400\n",
       "campaign                 1\n",
       "pdays                   -1\n",
       "previous                 0\n",
       "poutcome           unknown\n",
       "prediction               1\n",
       "Name: 10, dtype: object"
      ]
     },
     "execution_count": 34,
     "metadata": {},
     "output_type": "execute_result"
    }
   ],
   "source": [
    "# lets pick any one of the above,\n",
    "bank_data_with_prediction.iloc[10]"
   ]
  },
  {
   "cell_type": "markdown",
   "metadata": {},
   "source": [
    "#  LR model with SMOTE for removing the imbalance in the dataset"
   ]
  },
  {
   "cell_type": "code",
   "execution_count": 35,
   "metadata": {},
   "outputs": [
    {
     "name": "stderr",
     "output_type": "stream",
     "text": [
      "Using TensorFlow backend.\n"
     ]
    },
    {
     "name": "stdout",
     "output_type": "stream",
     "text": [
      "(37418, 51)\n"
     ]
    }
   ],
   "source": [
    "X = bank_final.loc[:, bank_final.columns != 'y']\n",
    "y = bank_final.loc[:, bank_final.columns == 'y']\n",
    "from imblearn.over_sampling import SMOTE\n",
    "\n",
    "# oversampling since data is imbalanced\n",
    "os = SMOTE(random_state=0)\n",
    "X_train, X_test, y_train, y_test = train_test_split(X, y, test_size=0.3, random_state=0)\n",
    "columns = X_train.columns\n",
    "os_bank_full_X,os_bank_full_y=os.fit_sample(X_train, y_train)\n",
    "os_bank_full_X = pd.DataFrame(data=os_bank_full_X,columns=columns )\n",
    "os_bank_full_y= pd.DataFrame(data=os_bank_full_y,columns=['y'])\n",
    "# we can Check the numbers of our data\n",
    "print(os_bank_full_X.shape)\n",
    "\n"
   ]
  },
  {
   "cell_type": "code",
   "execution_count": 36,
   "metadata": {},
   "outputs": [],
   "source": [
    "bank_data_resampled =pd.concat ([os_bank_full_X,os_bank_full_y], axis=1)\n",
    "X = bank_data_resampled.loc[:, bank_data_resampled.columns != 'y']\n",
    "y = bank_data_resampled.loc[:, bank_final.columns == 'y']"
   ]
  },
  {
   "cell_type": "code",
   "execution_count": 37,
   "metadata": {},
   "outputs": [
    {
     "data": {
      "image/png": "[encoded data removed]",
      "text/plain": [
       "<Figure size 432x288 with 1 Axes>"
      ]
     },
     "metadata": {
      "needs_background": "light"
     },
     "output_type": "display_data"
    }
   ],
   "source": [
    "sns.countplot(x='y',data=bank_data_resampled)\n",
    "plt.show()\n",
    "\n"
   ]
  },
  {
   "cell_type": "code",
   "execution_count": 38,
   "metadata": {},
   "outputs": [
    {
     "data": {
      "text/plain": [
       "((33676, 51), (3742, 51), (33676, 1), (3742, 1))"
      ]
     },
     "execution_count": 38,
     "metadata": {},
     "output_type": "execute_result"
    }
   ],
   "source": [
    "# making a separate sets for validation\n",
    "bank_data_MLX, bank_data_validation_X, bank_data_MLy,bank_data_validation_y=  train_test_split(os_bank_full_X, os_bank_full_y, test_size=0.1, random_state=0)\n",
    "\n",
    "bank_data_MLX.shape, bank_data_validation_X.shape, bank_data_MLy.shape,bank_data_validation_y.shape"
   ]
  },
  {
   "cell_type": "code",
   "execution_count": 39,
   "metadata": {},
   "outputs": [
    {
     "name": "stderr",
     "output_type": "stream",
     "text": [
      "/Users/jaspreetkaur/.local/lib/python3.6/site-packages/sklearn/utils/validation.py:760: DataConversionWarning: A column-vector y was passed when a 1d array was expected. Please change the shape of y to (n_samples, ), for example using ravel().\n",
      "  y = column_or_1d(y, warn=True)\n",
      "/Users/jaspreetkaur/.local/lib/python3.6/site-packages/sklearn/linear_model/_logistic.py:940: ConvergenceWarning: lbfgs failed to converge (status=1):\n",
      "STOP: TOTAL NO. of ITERATIONS REACHED LIMIT.\n",
      "\n",
      "Increase the number of iterations (max_iter) or scale the data as shown in:\n",
      "    https://scikit-learn.org/stable/modules/preprocessing.html\n",
      "Please also refer to the documentation for alternative solver options:\n",
      "    https://scikit-learn.org/stable/modules/linear_model.html#logistic-regression\n",
      "  extra_warning_msg=_LOGISTIC_SOLVER_CONVERGENCE_MSG)\n"
     ]
    },
    {
     "data": {
      "text/plain": [
       "LogisticRegression(C=3, class_weight=None, dual=False, fit_intercept=True,\n",
       "                   intercept_scaling=1, l1_ratio=None, max_iter=100,\n",
       "                   multi_class='auto', n_jobs=None, penalty='l2',\n",
       "                   random_state=None, solver='lbfgs', tol=0.0001, verbose=0,\n",
       "                   warm_start=False)"
      ]
     },
     "execution_count": 39,
     "metadata": {},
     "output_type": "execute_result"
    }
   ],
   "source": [
    "# using the datset which is separate from the valuidation set for splitting into train and test dataset\n",
    "X_train, X_test, y_train, y_test = train_test_split(bank_data_MLX, bank_data_MLy, test_size=0.3, random_state=0)\n",
    "lr1 = LogisticRegression(C=3,penalty='l2')\n",
    "lr1.fit(X_train, y_train)"
   ]
  },
  {
   "cell_type": "code",
   "execution_count": 40,
   "metadata": {},
   "outputs": [
    {
     "name": "stdout",
     "output_type": "stream",
     "text": [
      "Accuracy of logistic regression classifier on validation set: 0.90\n",
      "Accuracy of logistic regression classifier on test set: 0.90\n",
      "Matthews correlation coeff 0.804706311356772\n"
     ]
    }
   ],
   "source": [
    "y_pred = lr1.predict(bank_data_validation_X)\n",
    "print('Accuracy of logistic regression classifier on validation set: {:.2f}'.format(lr1.score(bank_data_validation_X, bank_data_validation_y)))\n",
    "y_pred = lr1.predict(X_test)\n",
    "print('Accuracy of logistic regression classifier on test set: {:.2f}'.format(lr1.score(X_test, y_test)))\n",
    "print(f'Matthews correlation coeff {sklearn.metrics.matthews_corrcoef(y_test, y_pred)}')"
   ]
  },
  {
   "cell_type": "markdown",
   "metadata": {},
   "source": [
    "#So it appears when we logistic regression performs equally well on test and validation dataset, hence an ideal choice "
   ]
  },
  {
   "cell_type": "code",
   "execution_count": 41,
   "metadata": {},
   "outputs": [
    {
     "name": "stdout",
     "output_type": "stream",
     "text": [
      "              precision    recall  f1-score   support\n",
      "\n",
      "         0.0       0.87      0.93      0.90      4943\n",
      "         1.0       0.93      0.87      0.90      5160\n",
      "\n",
      "    accuracy                           0.90     10103\n",
      "   macro avg       0.90      0.90      0.90     10103\n",
      "weighted avg       0.90      0.90      0.90     10103\n",
      "\n"
     ]
    }
   ],
   "source": [
    "print(classification_report(y_test, y_pred))"
   ]
  },
  {
   "cell_type": "markdown",
   "metadata": {},
   "source": [
    "# Which features are important for this model"
   ]
  },
  {
   "cell_type": "code",
   "execution_count": 42,
   "metadata": {},
   "outputs": [
    {
     "name": "stderr",
     "output_type": "stream",
     "text": [
      "/anaconda3/lib/python3.6/site-packages/lightgbm/__init__.py:48: UserWarning: Starting from version 2.2.1, the library file in distribution wheels for macOS is built by the Apple Clang (Xcode_8.3.3) compiler.\n",
      "This means that in case of installing LightGBM from PyPI via the ``pip install lightgbm`` command, you don't need to install the gcc compiler anymore.\n",
      "Instead of that, you need to install the OpenMP library, which is required for running LightGBM on the system with the Apple Clang compiler.\n",
      "You can install the OpenMP library by the following command: ``brew install libomp``.\n",
      "  \"You can install the OpenMP library by the following command: ``brew install libomp``.\", UserWarning)\n",
      "/Users/jaspreetkaur/.local/lib/python3.6/site-packages/sklearn/preprocessing/_label.py:235: DataConversionWarning: A column-vector y was passed when a 1d array was expected. Please change the shape of y to (n_samples, ), for example using ravel().\n",
      "  y = column_or_1d(y, warn=True)\n",
      "/Users/jaspreetkaur/.local/lib/python3.6/site-packages/sklearn/preprocessing/_label.py:268: DataConversionWarning: A column-vector y was passed when a 1d array was expected. Please change the shape of y to (n_samples, ), for example using ravel().\n",
      "  y = column_or_1d(y, warn=True)\n"
     ]
    }
   ],
   "source": [
    "from lightgbm import LGBMClassifier\n",
    "clf = LGBMClassifier()\n",
    "clf.fit(X_train, y_train)\n",
    "y_pred=clf.predict(X_test)"
   ]
  },
  {
   "cell_type": "code",
   "execution_count": 43,
   "metadata": {},
   "outputs": [
    {
     "data": {
      "text/plain": [
       "((23573, 51), (10103, 51), (23573, 1), (10103, 1))"
      ]
     },
     "execution_count": 43,
     "metadata": {},
     "output_type": "execute_result"
    }
   ],
   "source": [
    "X_train.shape, X_test.shape, y_train.shape, y_test.shape"
   ]
  },
  {
   "cell_type": "code",
   "execution_count": 44,
   "metadata": {},
   "outputs": [
    {
     "name": "stderr",
     "output_type": "stream",
     "text": [
      "Setting feature_perturbation = \"tree_path_dependent\" because no background data was given.\n",
      "LightGBM binary classifier with TreeExplainer shap values output has changed to a list of ndarray\n"
     ]
    },
    {
     "data": {
      "image/png": "[encoded data removed]",
      "text/plain": [
       "<Figure size 576x684 with 1 Axes>"
      ]
     },
     "metadata": {
      "needs_background": "light"
     },
     "output_type": "display_data"
    }
   ],
   "source": [
    "# Also shap explainer to show top 10 features for this model\n",
    "import shap\n",
    "explainer = shap.TreeExplainer(clf)\n",
    "shapX = X_test.sample(10_00)\n",
    "shap_values = explainer.shap_values(shapX)\n",
    "shap.summary_plot(shap_values, shapX, plot_type=\"bar\")"
   ]
  },
  {
   "cell_type": "markdown",
   "metadata": {},
   "source": [
    "# feature3 which is duration is the most important feature, that means the longest the customer has been with us, the more likely they will aceept the marketing offer"
   ]
  },
  {
   "cell_type": "code",
   "execution_count": 45,
   "metadata": {},
   "outputs": [
    {
     "name": "stdout",
     "output_type": "stream",
     "text": [
      "Accuracy of Extra tree classifier on validation set: 0.94\n",
      "Accuracy of Extra tree classifier classifier on test set: 0.94\n",
      "Matthews correlation coeff 0.8774098493657844\n"
     ]
    }
   ],
   "source": [
    "# checking the score for tree classifier\n",
    "y_pred = clf.predict(bank_data_validation_X)\n",
    "print('Accuracy of Extra tree classifier on validation set: {:.2f}'.format(clf.score(bank_data_validation_X, bank_data_validation_y)))\n",
    "y_pred = clf.predict(X_test)\n",
    "print('Accuracy of Extra tree classifier classifier on test set: {:.2f}'.format(clf.score(X_test, y_test)))\n",
    "print(f'Matthews correlation coeff {sklearn.metrics.matthews_corrcoef(y_test, y_pred)}')"
   ]
  },
  {
   "cell_type": "markdown",
   "metadata": {},
   "source": [
    "# no we do train the model with LALE, since it was difficult to run LALE operators for processed dataset, so the imbalance in the data remains, and I use  sklearn.metrics import matthews_corrcoef coeeficient which will score the dataset for its imbalanced part\n",
    "\n",
    "LALE is extremely good at the automating the preprocessing part and hyperoptimisation part\n",
    "which is why I made it part of the project to showcase how easy it is to ease the work of data scientist,\n",
    "I just hoped it worked with my processed dataset. I am getting Subschema ERROR if I use my processsed dataset"
   ]
  },
  {
   "cell_type": "code",
   "execution_count": 46,
   "metadata": {},
   "outputs": [
    {
     "data": {
      "image/svg+xml": [
       "<?xml version=\"1.0\" encoding=\"UTF-8\" standalone=\"no\"?>\n",
       "<!DOCTYPE svg PUBLIC \"-//W3C//DTD SVG 1.1//EN\"\n",
       " \"http://www.w3.org/Graphics/SVG/1.1/DTD/svg11.dtd\">\n",
       "<!-- Generated by graphviz version 2.43.0 (0)\n",
       " -->\n",
       "<!-- Title: cluster:(root) Pages: 1 -->\n",
       "<svg width=\"332pt\" height=\"87pt\"\n",
       " viewBox=\"0.00 0.00 332.00 87.38\" xmlns=\"http://www.w3.org/2000/svg\" xmlns:xlink=\"http://www.w3.org/1999/xlink\">\n",
       "<g id=\"graph0\" class=\"graph\" transform=\"scale(1 1) rotate(0) translate(4 83.38)\">\n",
       "<title>cluster:(root)</title>\n",
       "<g id=\"a_graph0\"><a xlink:title=\"(root) = ...\">\n",
       "<polygon fill=\"white\" stroke=\"transparent\" points=\"-4,4 -4,-83.38 328,-83.38 328,4 -4,4\"/>\n",
       "</a>\n",
       "</g>\n",
       "<!-- project_0 -->\n",
       "<g id=\"node1\" class=\"node\">\n",
       "<title>project_0</title>\n",
       "<g id=\"a_node1\"><a xlink:href=\"https://lale.readthedocs.io/en/latest/modules/lale.lib.lale.project.html\" xlink:title=\"project_0 = Project(columns={&#39;type&#39;: &#39;number&#39;})\">\n",
       "<ellipse fill=\"#b0e2ff\" stroke=\"black\" cx=\"27\" cy=\"-61.38\" rx=\"27\" ry=\"18\"/>\n",
       "<text text-anchor=\"middle\" x=\"27\" y=\"-58.08\" font-family=\"Times,serif\" font-size=\"11.00\">Project</text>\n",
       "</a>\n",
       "</g>\n",
       "</g>\n",
       "<!-- norm -->\n",
       "<g id=\"node2\" class=\"node\">\n",
       "<title>norm</title>\n",
       "<g id=\"a_node2\"><a xlink:href=\"https://scikit-learn.org/0.20/modules/generated/sklearn.preprocessing.Normalizer.html#sklearn-preprocessing-normalizer\" xlink:title=\"norm = Norm()\">\n",
       "<ellipse fill=\"#b0e2ff\" stroke=\"black\" cx=\"117\" cy=\"-61.38\" rx=\"27\" ry=\"18\"/>\n",
       "<text text-anchor=\"middle\" x=\"117\" y=\"-58.08\" font-family=\"Times,serif\" font-size=\"11.00\">Norm</text>\n",
       "</a>\n",
       "</g>\n",
       "</g>\n",
       "<!-- project_0&#45;&gt;norm -->\n",
       "<g id=\"edge1\" class=\"edge\">\n",
       "<title>project_0&#45;&gt;norm</title>\n",
       "<path fill=\"none\" stroke=\"black\" d=\"M54.4,-61.38C62.39,-61.38 71.31,-61.38 79.82,-61.38\"/>\n",
       "<polygon fill=\"black\" stroke=\"black\" points=\"79.92,-64.88 89.92,-61.38 79.92,-57.88 79.92,-64.88\"/>\n",
       "</g>\n",
       "<!-- concat -->\n",
       "<g id=\"node5\" class=\"node\">\n",
       "<title>concat</title>\n",
       "<g id=\"a_node5\"><a xlink:href=\"https://lale.readthedocs.io/en/latest/modules/lale.lib.lale.concat_features.html\" xlink:title=\"concat = Concat\">\n",
       "<ellipse fill=\"white\" stroke=\"black\" cx=\"207\" cy=\"-39.38\" rx=\"27\" ry=\"18\"/>\n",
       "<text text-anchor=\"middle\" x=\"207\" y=\"-36.08\" font-family=\"Times,serif\" font-size=\"11.00\">Concat</text>\n",
       "</a>\n",
       "</g>\n",
       "</g>\n",
       "<!-- norm&#45;&gt;concat -->\n",
       "<g id=\"edge3\" class=\"edge\">\n",
       "<title>norm&#45;&gt;concat</title>\n",
       "<path fill=\"none\" stroke=\"black\" d=\"M142.51,-55.26C151.5,-53.01 161.84,-50.43 171.53,-48\"/>\n",
       "<polygon fill=\"black\" stroke=\"black\" points=\"172.46,-51.38 181.31,-45.56 170.76,-44.59 172.46,-51.38\"/>\n",
       "</g>\n",
       "<!-- project_1 -->\n",
       "<g id=\"node3\" class=\"node\">\n",
       "<title>project_1</title>\n",
       "<g id=\"a_node3\"><a xlink:href=\"https://lale.readthedocs.io/en/latest/modules/lale.lib.lale.project.html\" xlink:title=\"project_1 = Project(columns={&#39;type&#39;: &#39;string&#39;})\">\n",
       "<ellipse fill=\"#b0e2ff\" stroke=\"black\" cx=\"27\" cy=\"-18.38\" rx=\"27\" ry=\"18\"/>\n",
       "<text text-anchor=\"middle\" x=\"27\" y=\"-15.08\" font-family=\"Times,serif\" font-size=\"11.00\">Project</text>\n",
       "</a>\n",
       "</g>\n",
       "</g>\n",
       "<!-- one_hot -->\n",
       "<g id=\"node4\" class=\"node\">\n",
       "<title>one_hot</title>\n",
       "<g id=\"a_node4\"><a xlink:href=\"https://scikit-learn.org/0.20/modules/generated/sklearn.preprocessing.OneHotEncoder.html#sklearn-preprocessing-onehotencoder\" xlink:title=\"one_hot = OneHot()\">\n",
       "<ellipse fill=\"#b0e2ff\" stroke=\"black\" cx=\"117\" cy=\"-18.38\" rx=\"27\" ry=\"18.27\"/>\n",
       "<text text-anchor=\"middle\" x=\"117\" y=\"-20.58\" font-family=\"Times,serif\" font-size=\"11.00\">One&#45;</text>\n",
       "<text text-anchor=\"middle\" x=\"117\" y=\"-9.58\" font-family=\"Times,serif\" font-size=\"11.00\">Hot</text>\n",
       "</a>\n",
       "</g>\n",
       "</g>\n",
       "<!-- project_1&#45;&gt;one_hot -->\n",
       "<g id=\"edge2\" class=\"edge\">\n",
       "<title>project_1&#45;&gt;one_hot</title>\n",
       "<path fill=\"none\" stroke=\"black\" d=\"M54.4,-18.38C62.39,-18.38 71.31,-18.38 79.82,-18.38\"/>\n",
       "<polygon fill=\"black\" stroke=\"black\" points=\"79.92,-21.88 89.92,-18.38 79.92,-14.88 79.92,-21.88\"/>\n",
       "</g>\n",
       "<!-- one_hot&#45;&gt;concat -->\n",
       "<g id=\"edge4\" class=\"edge\">\n",
       "<title>one_hot&#45;&gt;concat</title>\n",
       "<path fill=\"none\" stroke=\"black\" d=\"M142.98,-24.35C151.79,-26.45 161.85,-28.85 171.32,-31.11\"/>\n",
       "<polygon fill=\"black\" stroke=\"black\" points=\"170.72,-34.56 181.26,-33.48 172.35,-27.76 170.72,-34.56\"/>\n",
       "</g>\n",
       "<!-- lr -->\n",
       "<g id=\"node6\" class=\"node\">\n",
       "<title>lr</title>\n",
       "<g id=\"a_node6\"><a xlink:href=\"https://lale.readthedocs.io/en/latest/modules/lale.lib.sklearn.logistic_regression.html\" xlink:title=\"lr = LR()\">\n",
       "<ellipse fill=\"#b0e2ff\" stroke=\"black\" cx=\"297\" cy=\"-39.38\" rx=\"27\" ry=\"18\"/>\n",
       "<text text-anchor=\"middle\" x=\"297\" y=\"-36.08\" font-family=\"Times,serif\" font-size=\"11.00\">LR</text>\n",
       "</a>\n",
       "</g>\n",
       "</g>\n",
       "<!-- concat&#45;&gt;lr -->\n",
       "<g id=\"edge5\" class=\"edge\">\n",
       "<title>concat&#45;&gt;lr</title>\n",
       "<path fill=\"none\" stroke=\"black\" d=\"M234.4,-39.38C242.39,-39.38 251.31,-39.38 259.82,-39.38\"/>\n",
       "<polygon fill=\"black\" stroke=\"black\" points=\"259.92,-42.88 269.92,-39.38 259.92,-35.88 259.92,-42.88\"/>\n",
       "</g>\n",
       "</g>\n",
       "</svg>\n"
      ],
      "text/plain": [
       "<graphviz.dot.Digraph at 0x1a176251d0>"
      ]
     },
     "metadata": {},
     "output_type": "display_data"
    }
   ],
   "source": [
    "manual_trainable = (\n",
    "       (  Project(columns={'type': 'number'}) >> Norm()\n",
    "        & Project(columns={'type': 'string'}) >> OneHot())\n",
    "    >>Concat\n",
    "    >> LR())\n",
    "manual_trainable.visualize()"
   ]
  },
  {
   "cell_type": "code",
   "execution_count": 47,
   "metadata": {},
   "outputs": [
    {
     "name": "stdout",
     "output_type": "stream",
     "text": [
      "accuracy 89.4%\n",
      "Matthews correlation coeff 0.35518735966818615\n"
     ]
    }
   ],
   "source": [
    "\n",
    "manual_trained = manual_trainable.fit(train_X, train_y)\n",
    "manual_y = manual_trained.predict(test_X)\n",
    "print(f'accuracy {sklearn.metrics.accuracy_score(test_y, manual_y):.1%}')\n",
    "print(f'Matthews correlation coeff {sklearn.metrics.matthews_corrcoef(test_y, manual_y)}')"
   ]
  },
  {
   "cell_type": "code",
   "execution_count": 48,
   "metadata": {
    "scrolled": true
   },
   "outputs": [
    {
     "name": "stdout",
     "output_type": "stream",
     "text": [
      "              precision    recall  f1-score   support\n",
      "\n",
      "           0       0.91      0.98      0.94     13163\n",
      "           1       0.62      0.26      0.37      1757\n",
      "\n",
      "    accuracy                           0.89     14920\n",
      "   macro avg       0.76      0.62      0.65     14920\n",
      "weighted avg       0.87      0.89      0.87     14920\n",
      "\n"
     ]
    }
   ],
   "source": [
    "print(classification_report(test_y,manual_y))"
   ]
  },
  {
   "cell_type": "code",
   "execution_count": 49,
   "metadata": {},
   "outputs": [
    {
     "data": {
      "image/svg+xml": [
       "<?xml version=\"1.0\" encoding=\"UTF-8\" standalone=\"no\"?>\n",
       "<!DOCTYPE svg PUBLIC \"-//W3C//DTD SVG 1.1//EN\"\n",
       " \"http://www.w3.org/Graphics/SVG/1.1/DTD/svg11.dtd\">\n",
       "<!-- Generated by graphviz version 2.43.0 (0)\n",
       " -->\n",
       "<!-- Title: cluster:(root) Pages: 1 -->\n",
       "<svg width=\"332pt\" height=\"87pt\"\n",
       " viewBox=\"0.00 0.00 332.00 87.38\" xmlns=\"http://www.w3.org/2000/svg\" xmlns:xlink=\"http://www.w3.org/1999/xlink\">\n",
       "<g id=\"graph0\" class=\"graph\" transform=\"scale(1 1) rotate(0) translate(4 83.38)\">\n",
       "<title>cluster:(root)</title>\n",
       "<g id=\"a_graph0\"><a xlink:title=\"(root) = ...\">\n",
       "<polygon fill=\"white\" stroke=\"transparent\" points=\"-4,4 -4,-83.38 328,-83.38 328,4 -4,4\"/>\n",
       "</a>\n",
       "</g>\n",
       "<!-- project_0 -->\n",
       "<g id=\"node1\" class=\"node\">\n",
       "<title>project_0</title>\n",
       "<g id=\"a_node1\"><a xlink:href=\"https://lale.readthedocs.io/en/latest/modules/lale.lib.lale.project.html\" xlink:title=\"project_0 = Project(columns={&#39;type&#39;: &#39;number&#39;})\">\n",
       "<ellipse fill=\"#b0e2ff\" stroke=\"black\" cx=\"27\" cy=\"-61.38\" rx=\"27\" ry=\"18\"/>\n",
       "<text text-anchor=\"middle\" x=\"27\" y=\"-58.08\" font-family=\"Times,serif\" font-size=\"11.00\">Project</text>\n",
       "</a>\n",
       "</g>\n",
       "</g>\n",
       "<!-- norm -->\n",
       "<g id=\"node2\" class=\"node\">\n",
       "<title>norm</title>\n",
       "<g id=\"a_node2\"><a xlink:href=\"https://scikit-learn.org/0.20/modules/generated/sklearn.preprocessing.Normalizer.html#sklearn-preprocessing-normalizer\" xlink:title=\"norm = Norm\">\n",
       "<ellipse fill=\"#7ec0ee\" stroke=\"black\" cx=\"117\" cy=\"-61.38\" rx=\"27\" ry=\"18\"/>\n",
       "<text text-anchor=\"middle\" x=\"117\" y=\"-58.08\" font-family=\"Times,serif\" font-size=\"11.00\">Norm</text>\n",
       "</a>\n",
       "</g>\n",
       "</g>\n",
       "<!-- project_0&#45;&gt;norm -->\n",
       "<g id=\"edge1\" class=\"edge\">\n",
       "<title>project_0&#45;&gt;norm</title>\n",
       "<path fill=\"none\" stroke=\"black\" d=\"M54.4,-61.38C62.39,-61.38 71.31,-61.38 79.82,-61.38\"/>\n",
       "<polygon fill=\"black\" stroke=\"black\" points=\"79.92,-64.88 89.92,-61.38 79.92,-57.88 79.92,-64.88\"/>\n",
       "</g>\n",
       "<!-- concat -->\n",
       "<g id=\"node5\" class=\"node\">\n",
       "<title>concat</title>\n",
       "<g id=\"a_node5\"><a xlink:href=\"https://lale.readthedocs.io/en/latest/modules/lale.lib.lale.concat_features.html\" xlink:title=\"concat = Concat\">\n",
       "<ellipse fill=\"white\" stroke=\"black\" cx=\"207\" cy=\"-39.38\" rx=\"27\" ry=\"18\"/>\n",
       "<text text-anchor=\"middle\" x=\"207\" y=\"-36.08\" font-family=\"Times,serif\" font-size=\"11.00\">Concat</text>\n",
       "</a>\n",
       "</g>\n",
       "</g>\n",
       "<!-- norm&#45;&gt;concat -->\n",
       "<g id=\"edge3\" class=\"edge\">\n",
       "<title>norm&#45;&gt;concat</title>\n",
       "<path fill=\"none\" stroke=\"black\" d=\"M142.51,-55.26C151.5,-53.01 161.84,-50.43 171.53,-48\"/>\n",
       "<polygon fill=\"black\" stroke=\"black\" points=\"172.46,-51.38 181.31,-45.56 170.76,-44.59 172.46,-51.38\"/>\n",
       "</g>\n",
       "<!-- project_1 -->\n",
       "<g id=\"node3\" class=\"node\">\n",
       "<title>project_1</title>\n",
       "<g id=\"a_node3\"><a xlink:href=\"https://lale.readthedocs.io/en/latest/modules/lale.lib.lale.project.html\" xlink:title=\"project_1 = Project(columns={&#39;type&#39;: &#39;string&#39;})\">\n",
       "<ellipse fill=\"#b0e2ff\" stroke=\"black\" cx=\"27\" cy=\"-18.38\" rx=\"27\" ry=\"18\"/>\n",
       "<text text-anchor=\"middle\" x=\"27\" y=\"-15.08\" font-family=\"Times,serif\" font-size=\"11.00\">Project</text>\n",
       "</a>\n",
       "</g>\n",
       "</g>\n",
       "<!-- one_hot -->\n",
       "<g id=\"node4\" class=\"node\">\n",
       "<title>one_hot</title>\n",
       "<g id=\"a_node4\"><a xlink:href=\"https://scikit-learn.org/0.20/modules/generated/sklearn.preprocessing.OneHotEncoder.html#sklearn-preprocessing-onehotencoder\" xlink:title=\"one_hot = OneHot\">\n",
       "<ellipse fill=\"#7ec0ee\" stroke=\"black\" cx=\"117\" cy=\"-18.38\" rx=\"27\" ry=\"18.27\"/>\n",
       "<text text-anchor=\"middle\" x=\"117\" y=\"-20.58\" font-family=\"Times,serif\" font-size=\"11.00\">One&#45;</text>\n",
       "<text text-anchor=\"middle\" x=\"117\" y=\"-9.58\" font-family=\"Times,serif\" font-size=\"11.00\">Hot</text>\n",
       "</a>\n",
       "</g>\n",
       "</g>\n",
       "<!-- project_1&#45;&gt;one_hot -->\n",
       "<g id=\"edge2\" class=\"edge\">\n",
       "<title>project_1&#45;&gt;one_hot</title>\n",
       "<path fill=\"none\" stroke=\"black\" d=\"M54.4,-18.38C62.39,-18.38 71.31,-18.38 79.82,-18.38\"/>\n",
       "<polygon fill=\"black\" stroke=\"black\" points=\"79.92,-21.88 89.92,-18.38 79.92,-14.88 79.92,-21.88\"/>\n",
       "</g>\n",
       "<!-- one_hot&#45;&gt;concat -->\n",
       "<g id=\"edge4\" class=\"edge\">\n",
       "<title>one_hot&#45;&gt;concat</title>\n",
       "<path fill=\"none\" stroke=\"black\" d=\"M142.98,-24.35C151.79,-26.45 161.85,-28.85 171.32,-31.11\"/>\n",
       "<polygon fill=\"black\" stroke=\"black\" points=\"170.72,-34.56 181.26,-33.48 172.35,-27.76 170.72,-34.56\"/>\n",
       "</g>\n",
       "<!-- lr -->\n",
       "<g id=\"node6\" class=\"node\">\n",
       "<title>lr</title>\n",
       "<g id=\"a_node6\"><a xlink:href=\"https://lale.readthedocs.io/en/latest/modules/lale.lib.sklearn.logistic_regression.html\" xlink:title=\"lr = LR\">\n",
       "<ellipse fill=\"#7ec0ee\" stroke=\"black\" cx=\"297\" cy=\"-39.38\" rx=\"27\" ry=\"18\"/>\n",
       "<text text-anchor=\"middle\" x=\"297\" y=\"-36.08\" font-family=\"Times,serif\" font-size=\"11.00\">LR</text>\n",
       "</a>\n",
       "</g>\n",
       "</g>\n",
       "<!-- concat&#45;&gt;lr -->\n",
       "<g id=\"edge5\" class=\"edge\">\n",
       "<title>concat&#45;&gt;lr</title>\n",
       "<path fill=\"none\" stroke=\"black\" d=\"M234.4,-39.38C242.39,-39.38 251.31,-39.38 259.82,-39.38\"/>\n",
       "<polygon fill=\"black\" stroke=\"black\" points=\"259.92,-42.88 269.92,-39.38 259.92,-35.88 259.92,-42.88\"/>\n",
       "</g>\n",
       "</g>\n",
       "</svg>\n"
      ],
      "text/plain": [
       "<graphviz.dot.Digraph at 0x1a38daa9e8>"
      ]
     },
     "metadata": {},
     "output_type": "display_data"
    }
   ],
   "source": [
    "auto_planned = (\n",
    "       (  Project(columns={'type': 'number'}) >> Norm\n",
    "        & Project(columns={'type': 'string'}) >> OneHot)\n",
    "    >> Concat\n",
    "    >> (LR ))\n",
    "auto_planned.visualize()"
   ]
  },
  {
   "cell_type": "code",
   "execution_count": 50,
   "metadata": {},
   "outputs": [
    {
     "name": "stdout",
     "output_type": "stream",
     "text": [
      "100%|██████████| 10/10 [01:13<00:00,  7.36s/trial, best loss: -0.8989798950183223]\n",
      "accuracy 89.3%\n",
      "Matthews correlation coeff 0.36923172099077317\n"
     ]
    }
   ],
   "source": [
    "\n",
    "auto_optimizer = Hyperopt(estimator=auto_planned, cv=3, max_evals=10)\n",
    "auto_trained = auto_optimizer.fit(train_X, train_y)\n",
    "auto_y = auto_trained.predict(test_X)\n",
    "print(f'accuracy {sklearn.metrics.accuracy_score(test_y, auto_y):.1%}')\n",
    "print(f'Matthews correlation coeff {sklearn.metrics.matthews_corrcoef(test_y, auto_y)}')"
   ]
  },
  {
   "cell_type": "code",
   "execution_count": 51,
   "metadata": {},
   "outputs": [
    {
     "data": {
      "text/markdown": [
       "```python\n",
       "project_0 = Project(columns={'type': 'number'})\n",
       "norm = Norm(norm='l1')\n",
       "project_1 = Project(columns={'type': 'string'})\n",
       "lr = LR(C=10618.818622619909, multi_class='auto', solver='newton-cg', tol=0.09200172255146725)\n",
       "pipeline = ((project_0 >> norm) & (project_1 >> OneHot())) >> Concat() >> lr\n",
       "```"
      ],
      "text/plain": [
       "<IPython.core.display.Markdown object>"
      ]
     },
     "metadata": {},
     "output_type": "display_data"
    }
   ],
   "source": [
    "# lale predicts the best hyperparameters\n",
    "auto_trained.get_pipeline().pretty_print(ipython_display=True, show_imports=False)"
   ]
  },
  {
   "cell_type": "code",
   "execution_count": 52,
   "metadata": {},
   "outputs": [
    {
     "data": {
      "image/svg+xml": [
       "<?xml version=\"1.0\" encoding=\"UTF-8\" standalone=\"no\"?>\n",
       "<!DOCTYPE svg PUBLIC \"-//W3C//DTD SVG 1.1//EN\"\n",
       " \"http://www.w3.org/Graphics/SVG/1.1/DTD/svg11.dtd\">\n",
       "<!-- Generated by graphviz version 2.43.0 (0)\n",
       " -->\n",
       "<!-- Title: cluster:(root) Pages: 1 -->\n",
       "<svg width=\"332pt\" height=\"87pt\"\n",
       " viewBox=\"0.00 0.00 332.00 87.38\" xmlns=\"http://www.w3.org/2000/svg\" xmlns:xlink=\"http://www.w3.org/1999/xlink\">\n",
       "<g id=\"graph0\" class=\"graph\" transform=\"scale(1 1) rotate(0) translate(4 83.38)\">\n",
       "<title>cluster:(root)</title>\n",
       "<g id=\"a_graph0\"><a xlink:title=\"(root) = ...\">\n",
       "<polygon fill=\"white\" stroke=\"transparent\" points=\"-4,4 -4,-83.38 328,-83.38 328,4 -4,4\"/>\n",
       "</a>\n",
       "</g>\n",
       "<!-- project_0 -->\n",
       "<g id=\"node1\" class=\"node\">\n",
       "<title>project_0</title>\n",
       "<g id=\"a_node1\"><a xlink:href=\"https://lale.readthedocs.io/en/latest/modules/lale.lib.lale.project.html\" xlink:title=\"project_0 = Project(columns={&#39;type&#39;: &#39;number&#39;})\">\n",
       "<ellipse fill=\"#b0e2ff\" stroke=\"black\" cx=\"27\" cy=\"-61.38\" rx=\"27\" ry=\"18\"/>\n",
       "<text text-anchor=\"middle\" x=\"27\" y=\"-58.08\" font-family=\"Times,serif\" font-size=\"11.00\">Project</text>\n",
       "</a>\n",
       "</g>\n",
       "</g>\n",
       "<!-- norm -->\n",
       "<g id=\"node2\" class=\"node\">\n",
       "<title>norm</title>\n",
       "<g id=\"a_node2\"><a xlink:href=\"https://scikit-learn.org/0.20/modules/generated/sklearn.preprocessing.Normalizer.html#sklearn-preprocessing-normalizer\" xlink:title=\"norm = Norm\">\n",
       "<ellipse fill=\"#7ec0ee\" stroke=\"black\" cx=\"117\" cy=\"-61.38\" rx=\"27\" ry=\"18\"/>\n",
       "<text text-anchor=\"middle\" x=\"117\" y=\"-58.08\" font-family=\"Times,serif\" font-size=\"11.00\">Norm</text>\n",
       "</a>\n",
       "</g>\n",
       "</g>\n",
       "<!-- project_0&#45;&gt;norm -->\n",
       "<g id=\"edge1\" class=\"edge\">\n",
       "<title>project_0&#45;&gt;norm</title>\n",
       "<path fill=\"none\" stroke=\"black\" d=\"M54.4,-61.38C62.39,-61.38 71.31,-61.38 79.82,-61.38\"/>\n",
       "<polygon fill=\"black\" stroke=\"black\" points=\"79.92,-64.88 89.92,-61.38 79.92,-57.88 79.92,-64.88\"/>\n",
       "</g>\n",
       "<!-- concat -->\n",
       "<g id=\"node5\" class=\"node\">\n",
       "<title>concat</title>\n",
       "<g id=\"a_node5\"><a xlink:href=\"https://lale.readthedocs.io/en/latest/modules/lale.lib.lale.concat_features.html\" xlink:title=\"concat = Concat\">\n",
       "<ellipse fill=\"white\" stroke=\"black\" cx=\"207\" cy=\"-39.38\" rx=\"27\" ry=\"18\"/>\n",
       "<text text-anchor=\"middle\" x=\"207\" y=\"-36.08\" font-family=\"Times,serif\" font-size=\"11.00\">Concat</text>\n",
       "</a>\n",
       "</g>\n",
       "</g>\n",
       "<!-- norm&#45;&gt;concat -->\n",
       "<g id=\"edge3\" class=\"edge\">\n",
       "<title>norm&#45;&gt;concat</title>\n",
       "<path fill=\"none\" stroke=\"black\" d=\"M142.51,-55.26C151.5,-53.01 161.84,-50.43 171.53,-48\"/>\n",
       "<polygon fill=\"black\" stroke=\"black\" points=\"172.46,-51.38 181.31,-45.56 170.76,-44.59 172.46,-51.38\"/>\n",
       "</g>\n",
       "<!-- project_1 -->\n",
       "<g id=\"node3\" class=\"node\">\n",
       "<title>project_1</title>\n",
       "<g id=\"a_node3\"><a xlink:href=\"https://lale.readthedocs.io/en/latest/modules/lale.lib.lale.project.html\" xlink:title=\"project_1 = Project(columns={&#39;type&#39;: &#39;string&#39;})\">\n",
       "<ellipse fill=\"#b0e2ff\" stroke=\"black\" cx=\"27\" cy=\"-18.38\" rx=\"27\" ry=\"18\"/>\n",
       "<text text-anchor=\"middle\" x=\"27\" y=\"-15.08\" font-family=\"Times,serif\" font-size=\"11.00\">Project</text>\n",
       "</a>\n",
       "</g>\n",
       "</g>\n",
       "<!-- one_hot -->\n",
       "<g id=\"node4\" class=\"node\">\n",
       "<title>one_hot</title>\n",
       "<g id=\"a_node4\"><a xlink:href=\"https://scikit-learn.org/0.20/modules/generated/sklearn.preprocessing.OneHotEncoder.html#sklearn-preprocessing-onehotencoder\" xlink:title=\"one_hot = OneHot\">\n",
       "<ellipse fill=\"#7ec0ee\" stroke=\"black\" cx=\"117\" cy=\"-18.38\" rx=\"27\" ry=\"18.27\"/>\n",
       "<text text-anchor=\"middle\" x=\"117\" y=\"-20.58\" font-family=\"Times,serif\" font-size=\"11.00\">One&#45;</text>\n",
       "<text text-anchor=\"middle\" x=\"117\" y=\"-9.58\" font-family=\"Times,serif\" font-size=\"11.00\">Hot</text>\n",
       "</a>\n",
       "</g>\n",
       "</g>\n",
       "<!-- project_1&#45;&gt;one_hot -->\n",
       "<g id=\"edge2\" class=\"edge\">\n",
       "<title>project_1&#45;&gt;one_hot</title>\n",
       "<path fill=\"none\" stroke=\"black\" d=\"M54.4,-18.38C62.39,-18.38 71.31,-18.38 79.82,-18.38\"/>\n",
       "<polygon fill=\"black\" stroke=\"black\" points=\"79.92,-21.88 89.92,-18.38 79.92,-14.88 79.92,-21.88\"/>\n",
       "</g>\n",
       "<!-- one_hot&#45;&gt;concat -->\n",
       "<g id=\"edge4\" class=\"edge\">\n",
       "<title>one_hot&#45;&gt;concat</title>\n",
       "<path fill=\"none\" stroke=\"black\" d=\"M142.98,-24.35C151.79,-26.45 161.85,-28.85 171.32,-31.11\"/>\n",
       "<polygon fill=\"black\" stroke=\"black\" points=\"170.72,-34.56 181.26,-33.48 172.35,-27.76 170.72,-34.56\"/>\n",
       "</g>\n",
       "<!-- abc_meta -->\n",
       "<g id=\"node6\" class=\"node\">\n",
       "<title>abc_meta</title>\n",
       "<g id=\"a_node6\"><a xlink:title=\"abc_meta = ABCMeta\">\n",
       "<ellipse fill=\"#7ec0ee\" stroke=\"black\" cx=\"297\" cy=\"-39.38\" rx=\"27\" ry=\"18.27\"/>\n",
       "<text text-anchor=\"middle\" x=\"297\" y=\"-41.58\" font-family=\"Times,serif\" font-size=\"11.00\">ABC&#45;</text>\n",
       "<text text-anchor=\"middle\" x=\"297\" y=\"-30.58\" font-family=\"Times,serif\" font-size=\"11.00\">Meta</text>\n",
       "</a>\n",
       "</g>\n",
       "</g>\n",
       "<!-- concat&#45;&gt;abc_meta -->\n",
       "<g id=\"edge5\" class=\"edge\">\n",
       "<title>concat&#45;&gt;abc_meta</title>\n",
       "<path fill=\"none\" stroke=\"black\" d=\"M234.4,-39.38C242.39,-39.38 251.31,-39.38 259.82,-39.38\"/>\n",
       "<polygon fill=\"black\" stroke=\"black\" points=\"259.92,-42.88 269.92,-39.38 259.92,-35.88 259.92,-42.88\"/>\n",
       "</g>\n",
       "</g>\n",
       "</svg>\n"
      ],
      "text/plain": [
       "<graphviz.dot.Digraph at 0x1a1a761e10>"
      ]
     },
     "metadata": {},
     "output_type": "display_data"
    }
   ],
   "source": [
    "# using decisionTree classifier with lale\n",
    "auto_planned = (\n",
    "       (  Project(columns={'type': 'number'}) >> Norm\n",
    "        & Project(columns={'type': 'string'}) >> OneHot)\n",
    "    >> Concat\n",
    "    >> ( DecisionTreeClassifier))\n",
    "auto_planned.visualize()"
   ]
  },
  {
   "cell_type": "code",
   "execution_count": 53,
   "metadata": {},
   "outputs": [
    {
     "name": "stderr",
     "output_type": "stream",
     "text": [
      "simplifyAll: '{'default': 'gini'}' has unknown type\n",
      "simplifyAll: '{'default': 'best'}' has unknown type\n",
      "simplifyAll: '{'default': None}' has unknown type\n",
      "simplifyAll: '{'default': 2}' has unknown type\n",
      "simplifyAll: '{'default': 1}' has unknown type\n",
      "simplifyAll: '{'default': 0.0}' has unknown type\n",
      "simplifyAll: '{'default': None}' has unknown type\n",
      "simplifyAll: '{'default': None}' has unknown type\n",
      "simplifyAll: '{'default': None}' has unknown type\n",
      "simplifyAll: '{'default': 0.0}' has unknown type\n",
      "simplifyAll: '{'default': None}' has unknown type\n",
      "simplifyAll: '{'default': None}' has unknown type\n",
      "simplifyAll: '{'default': 'deprecated'}' has unknown type\n",
      "simplifyAll: '{'default': 0.0}' has unknown type\n",
      "simplifyAll: '{'default': 'gini'}' has unknown type\n",
      "simplifyAll: '{'default': 'best'}' has unknown type\n",
      "simplifyAll: '{'default': None}' has unknown type\n",
      "simplifyAll: '{'default': 2}' has unknown type\n",
      "simplifyAll: '{'default': 1}' has unknown type\n",
      "simplifyAll: '{'default': 0.0}' has unknown type\n",
      "simplifyAll: '{'default': None}' has unknown type\n",
      "simplifyAll: '{'default': None}' has unknown type\n",
      "simplifyAll: '{'default': None}' has unknown type\n",
      "simplifyAll: '{'default': 0.0}' has unknown type\n",
      "simplifyAll: '{'default': None}' has unknown type\n",
      "simplifyAll: '{'default': None}' has unknown type\n",
      "simplifyAll: '{'default': 'deprecated'}' has unknown type\n",
      "simplifyAll: '{'default': 0.0}' has unknown type\n"
     ]
    },
    {
     "name": "stdout",
     "output_type": "stream",
     "text": [
      "100%|██████████| 10/10 [01:06<00:00,  6.68s/trial, best loss: -0.8695322042851013]\n",
      "accuracy 86.5%\n",
      "Matthews correlation coeff 0.3643177505674533\n"
     ]
    }
   ],
   "source": [
    "\n",
    "auto_optimizer = Hyperopt(estimator=auto_planned, cv=3, max_evals=10)\n",
    "auto_trained = auto_optimizer.fit(train_X, train_y)\n",
    "auto_y = auto_trained.predict(test_X)\n",
    "print(f'accuracy {sklearn.metrics.accuracy_score(test_y, auto_y):.1%}')\n",
    "print(f'Matthews correlation coeff {sklearn.metrics.matthews_corrcoef(test_y, auto_y)}')"
   ]
  },
  {
   "cell_type": "code",
   "execution_count": 54,
   "metadata": {},
   "outputs": [
    {
     "data": {
      "image/svg+xml": [
       "<?xml version=\"1.0\" encoding=\"UTF-8\" standalone=\"no\"?>\n",
       "<!DOCTYPE svg PUBLIC \"-//W3C//DTD SVG 1.1//EN\"\n",
       " \"http://www.w3.org/Graphics/SVG/1.1/DTD/svg11.dtd\">\n",
       "<!-- Generated by graphviz version 2.43.0 (0)\n",
       " -->\n",
       "<!-- Title: cluster:(root) Pages: 1 -->\n",
       "<svg width=\"332pt\" height=\"87pt\"\n",
       " viewBox=\"0.00 0.00 332.00 87.38\" xmlns=\"http://www.w3.org/2000/svg\" xmlns:xlink=\"http://www.w3.org/1999/xlink\">\n",
       "<g id=\"graph0\" class=\"graph\" transform=\"scale(1 1) rotate(0) translate(4 83.38)\">\n",
       "<title>cluster:(root)</title>\n",
       "<g id=\"a_graph0\"><a xlink:title=\"(root) = ...\">\n",
       "<polygon fill=\"white\" stroke=\"transparent\" points=\"-4,4 -4,-83.38 328,-83.38 328,4 -4,4\"/>\n",
       "</a>\n",
       "</g>\n",
       "<!-- project_0 -->\n",
       "<g id=\"node1\" class=\"node\">\n",
       "<title>project_0</title>\n",
       "<g id=\"a_node1\"><a xlink:href=\"https://lale.readthedocs.io/en/latest/modules/lale.lib.lale.project.html\" xlink:title=\"project_0 = Project(columns={&#39;type&#39;: &#39;number&#39;})\">\n",
       "<ellipse fill=\"#b0e2ff\" stroke=\"black\" cx=\"27\" cy=\"-61.38\" rx=\"27\" ry=\"18\"/>\n",
       "<text text-anchor=\"middle\" x=\"27\" y=\"-58.08\" font-family=\"Times,serif\" font-size=\"11.00\">Project</text>\n",
       "</a>\n",
       "</g>\n",
       "</g>\n",
       "<!-- norm -->\n",
       "<g id=\"node2\" class=\"node\">\n",
       "<title>norm</title>\n",
       "<g id=\"a_node2\"><a xlink:href=\"https://scikit-learn.org/0.20/modules/generated/sklearn.preprocessing.Normalizer.html#sklearn-preprocessing-normalizer\" xlink:title=\"norm = Norm\">\n",
       "<ellipse fill=\"#7ec0ee\" stroke=\"black\" cx=\"117\" cy=\"-61.38\" rx=\"27\" ry=\"18\"/>\n",
       "<text text-anchor=\"middle\" x=\"117\" y=\"-58.08\" font-family=\"Times,serif\" font-size=\"11.00\">Norm</text>\n",
       "</a>\n",
       "</g>\n",
       "</g>\n",
       "<!-- project_0&#45;&gt;norm -->\n",
       "<g id=\"edge1\" class=\"edge\">\n",
       "<title>project_0&#45;&gt;norm</title>\n",
       "<path fill=\"none\" stroke=\"black\" d=\"M54.4,-61.38C62.39,-61.38 71.31,-61.38 79.82,-61.38\"/>\n",
       "<polygon fill=\"black\" stroke=\"black\" points=\"79.92,-64.88 89.92,-61.38 79.92,-57.88 79.92,-64.88\"/>\n",
       "</g>\n",
       "<!-- concat -->\n",
       "<g id=\"node5\" class=\"node\">\n",
       "<title>concat</title>\n",
       "<g id=\"a_node5\"><a xlink:href=\"https://lale.readthedocs.io/en/latest/modules/lale.lib.lale.concat_features.html\" xlink:title=\"concat = Concat\">\n",
       "<ellipse fill=\"white\" stroke=\"black\" cx=\"207\" cy=\"-39.38\" rx=\"27\" ry=\"18\"/>\n",
       "<text text-anchor=\"middle\" x=\"207\" y=\"-36.08\" font-family=\"Times,serif\" font-size=\"11.00\">Concat</text>\n",
       "</a>\n",
       "</g>\n",
       "</g>\n",
       "<!-- norm&#45;&gt;concat -->\n",
       "<g id=\"edge3\" class=\"edge\">\n",
       "<title>norm&#45;&gt;concat</title>\n",
       "<path fill=\"none\" stroke=\"black\" d=\"M142.51,-55.26C151.5,-53.01 161.84,-50.43 171.53,-48\"/>\n",
       "<polygon fill=\"black\" stroke=\"black\" points=\"172.46,-51.38 181.31,-45.56 170.76,-44.59 172.46,-51.38\"/>\n",
       "</g>\n",
       "<!-- project_1 -->\n",
       "<g id=\"node3\" class=\"node\">\n",
       "<title>project_1</title>\n",
       "<g id=\"a_node3\"><a xlink:href=\"https://lale.readthedocs.io/en/latest/modules/lale.lib.lale.project.html\" xlink:title=\"project_1 = Project(columns={&#39;type&#39;: &#39;string&#39;})\">\n",
       "<ellipse fill=\"#b0e2ff\" stroke=\"black\" cx=\"27\" cy=\"-18.38\" rx=\"27\" ry=\"18\"/>\n",
       "<text text-anchor=\"middle\" x=\"27\" y=\"-15.08\" font-family=\"Times,serif\" font-size=\"11.00\">Project</text>\n",
       "</a>\n",
       "</g>\n",
       "</g>\n",
       "<!-- one_hot -->\n",
       "<g id=\"node4\" class=\"node\">\n",
       "<title>one_hot</title>\n",
       "<g id=\"a_node4\"><a xlink:href=\"https://scikit-learn.org/0.20/modules/generated/sklearn.preprocessing.OneHotEncoder.html#sklearn-preprocessing-onehotencoder\" xlink:title=\"one_hot = OneHot\">\n",
       "<ellipse fill=\"#7ec0ee\" stroke=\"black\" cx=\"117\" cy=\"-18.38\" rx=\"27\" ry=\"18.27\"/>\n",
       "<text text-anchor=\"middle\" x=\"117\" y=\"-20.58\" font-family=\"Times,serif\" font-size=\"11.00\">One&#45;</text>\n",
       "<text text-anchor=\"middle\" x=\"117\" y=\"-9.58\" font-family=\"Times,serif\" font-size=\"11.00\">Hot</text>\n",
       "</a>\n",
       "</g>\n",
       "</g>\n",
       "<!-- project_1&#45;&gt;one_hot -->\n",
       "<g id=\"edge2\" class=\"edge\">\n",
       "<title>project_1&#45;&gt;one_hot</title>\n",
       "<path fill=\"none\" stroke=\"black\" d=\"M54.4,-18.38C62.39,-18.38 71.31,-18.38 79.82,-18.38\"/>\n",
       "<polygon fill=\"black\" stroke=\"black\" points=\"79.92,-21.88 89.92,-18.38 79.92,-14.88 79.92,-21.88\"/>\n",
       "</g>\n",
       "<!-- one_hot&#45;&gt;concat -->\n",
       "<g id=\"edge4\" class=\"edge\">\n",
       "<title>one_hot&#45;&gt;concat</title>\n",
       "<path fill=\"none\" stroke=\"black\" d=\"M142.98,-24.35C151.79,-26.45 161.85,-28.85 171.32,-31.11\"/>\n",
       "<polygon fill=\"black\" stroke=\"black\" points=\"170.72,-34.56 181.26,-33.48 172.35,-27.76 170.72,-34.56\"/>\n",
       "</g>\n",
       "<!-- type -->\n",
       "<g id=\"node6\" class=\"node\">\n",
       "<title>type</title>\n",
       "<g id=\"a_node6\"><a xlink:title=\"type = type\">\n",
       "<ellipse fill=\"#7ec0ee\" stroke=\"black\" cx=\"297\" cy=\"-39.38\" rx=\"27\" ry=\"18\"/>\n",
       "<text text-anchor=\"middle\" x=\"297\" y=\"-36.08\" font-family=\"Times,serif\" font-size=\"11.00\">type</text>\n",
       "</a>\n",
       "</g>\n",
       "</g>\n",
       "<!-- concat&#45;&gt;type -->\n",
       "<g id=\"edge5\" class=\"edge\">\n",
       "<title>concat&#45;&gt;type</title>\n",
       "<path fill=\"none\" stroke=\"black\" d=\"M234.4,-39.38C242.39,-39.38 251.31,-39.38 259.82,-39.38\"/>\n",
       "<polygon fill=\"black\" stroke=\"black\" points=\"259.92,-42.88 269.92,-39.38 259.92,-35.88 259.92,-42.88\"/>\n",
       "</g>\n",
       "</g>\n",
       "</svg>\n"
      ],
      "text/plain": [
       "<graphviz.dot.Digraph at 0x1a1ac1ae80>"
      ]
     },
     "metadata": {},
     "output_type": "display_data"
    }
   ],
   "source": [
    "from sklearn.discriminant_analysis import LinearDiscriminantAnalysis\n",
    "auto_planned = (\n",
    "       (  Project(columns={'type': 'number'}) >> Norm\n",
    "        & Project(columns={'type': 'string'}) >> OneHot)\n",
    "    >> Concat\n",
    "    >> ( LinearDiscriminantAnalysis))\n",
    "auto_planned.visualize()"
   ]
  },
  {
   "cell_type": "code",
   "execution_count": 55,
   "metadata": {},
   "outputs": [
    {
     "name": "stderr",
     "output_type": "stream",
     "text": [
      "simplifyAll: '{'default': 'svd'}' has unknown type\n",
      "simplifyAll: '{'default': None}' has unknown type\n",
      "simplifyAll: '{'default': None}' has unknown type\n",
      "simplifyAll: '{'default': None}' has unknown type\n",
      "simplifyAll: '{'default': False}' has unknown type\n",
      "simplifyAll: '{'default': 0.0001}' has unknown type\n",
      "simplifyAll: '{'default': 'svd'}' has unknown type\n",
      "simplifyAll: '{'default': None}' has unknown type\n",
      "simplifyAll: '{'default': None}' has unknown type\n",
      "simplifyAll: '{'default': None}' has unknown type\n",
      "simplifyAll: '{'default': False}' has unknown type\n",
      "simplifyAll: '{'default': 0.0001}' has unknown type\n"
     ]
    },
    {
     "name": "stdout",
     "output_type": "stream",
     "text": [
      "100%|██████████| 10/10 [01:05<00:00,  6.57s/trial, best loss: -0.8941929946188637]\n",
      "accuracy 88.9%\n",
      "Matthews correlation coeff 0.33705994199865136\n"
     ]
    }
   ],
   "source": [
    "\n",
    "auto_optimizer = Hyperopt(estimator=auto_planned, cv=3, max_evals=10)\n",
    "auto_trained = auto_optimizer.fit(train_X, train_y)\n",
    "auto_y = auto_trained.predict(test_X)\n",
    "print(f'accuracy {sklearn.metrics.accuracy_score(test_y, auto_y):.1%}')\n",
    "print(f'Matthews correlation coeff {sklearn.metrics.matthews_corrcoef(test_y, auto_y)}')"
   ]
  },
  {
   "cell_type": "markdown",
   "metadata": {},
   "source": [
    "# now seeing which algorithm i selected when combining and letting LALE choose the best one"
   ]
  },
  {
   "cell_type": "code",
   "execution_count": 56,
   "metadata": {},
   "outputs": [
    {
     "data": {
      "image/svg+xml": [
       "<?xml version=\"1.0\" encoding=\"UTF-8\" standalone=\"no\"?>\n",
       "<!DOCTYPE svg PUBLIC \"-//W3C//DTD SVG 1.1//EN\"\n",
       " \"http://www.w3.org/Graphics/SVG/1.1/DTD/svg11.dtd\">\n",
       "<!-- Generated by graphviz version 2.43.0 (0)\n",
       " -->\n",
       "<!-- Title: cluster:(root) Pages: 1 -->\n",
       "<svg width=\"348pt\" height=\"184pt\"\n",
       " viewBox=\"0.00 0.00 348.00 184.00\" xmlns=\"http://www.w3.org/2000/svg\" xmlns:xlink=\"http://www.w3.org/1999/xlink\">\n",
       "<g id=\"graph0\" class=\"graph\" transform=\"scale(1 1) rotate(0) translate(4 180)\">\n",
       "<title>cluster:(root)</title>\n",
       "<g id=\"a_graph0\"><a xlink:title=\"(root) = ...\">\n",
       "<polygon fill=\"white\" stroke=\"transparent\" points=\"-4,4 -4,-180 344,-180 344,4 -4,4\"/>\n",
       "</a>\n",
       "</g>\n",
       "<g id=\"clust1\" class=\"cluster\">\n",
       "<title>cluster:choice</title>\n",
       "<g id=\"a_clust1\"><a xlink:title=\"choice = lr | abc_meta | type\">\n",
       "<polygon fill=\"#7ec0ee\" stroke=\"black\" points=\"262,-8 262,-168 332,-168 332,-8 262,-8\"/>\n",
       "<text text-anchor=\"middle\" x=\"297\" y=\"-152.8\" font-family=\"Times,serif\" font-size=\"14.00\">Choice</text>\n",
       "</a>\n",
       "</g>\n",
       "</g>\n",
       "<!-- project_0 -->\n",
       "<g id=\"node1\" class=\"node\">\n",
       "<title>project_0</title>\n",
       "<g id=\"a_node1\"><a xlink:href=\"https://lale.readthedocs.io/en/latest/modules/lale.lib.lale.project.html\" xlink:title=\"project_0 = Project(columns={&#39;type&#39;: &#39;number&#39;})\">\n",
       "<ellipse fill=\"#b0e2ff\" stroke=\"black\" cx=\"27\" cy=\"-142\" rx=\"27\" ry=\"18\"/>\n",
       "<text text-anchor=\"middle\" x=\"27\" y=\"-138.7\" font-family=\"Times,serif\" font-size=\"11.00\">Project</text>\n",
       "</a>\n",
       "</g>\n",
       "</g>\n",
       "<!-- norm -->\n",
       "<g id=\"node2\" class=\"node\">\n",
       "<title>norm</title>\n",
       "<g id=\"a_node2\"><a xlink:href=\"https://scikit-learn.org/0.20/modules/generated/sklearn.preprocessing.Normalizer.html#sklearn-preprocessing-normalizer\" xlink:title=\"norm = Norm\">\n",
       "<ellipse fill=\"#7ec0ee\" stroke=\"black\" cx=\"117\" cy=\"-142\" rx=\"27\" ry=\"18\"/>\n",
       "<text text-anchor=\"middle\" x=\"117\" y=\"-138.7\" font-family=\"Times,serif\" font-size=\"11.00\">Norm</text>\n",
       "</a>\n",
       "</g>\n",
       "</g>\n",
       "<!-- project_0&#45;&gt;norm -->\n",
       "<g id=\"edge1\" class=\"edge\">\n",
       "<title>project_0&#45;&gt;norm</title>\n",
       "<path fill=\"none\" stroke=\"black\" d=\"M54.4,-142C62.39,-142 71.31,-142 79.82,-142\"/>\n",
       "<polygon fill=\"black\" stroke=\"black\" points=\"79.92,-145.5 89.92,-142 79.92,-138.5 79.92,-145.5\"/>\n",
       "</g>\n",
       "<!-- concat -->\n",
       "<g id=\"node5\" class=\"node\">\n",
       "<title>concat</title>\n",
       "<g id=\"a_node5\"><a xlink:href=\"https://lale.readthedocs.io/en/latest/modules/lale.lib.lale.concat_features.html\" xlink:title=\"concat = Concat\">\n",
       "<ellipse fill=\"white\" stroke=\"black\" cx=\"207\" cy=\"-120\" rx=\"27\" ry=\"18\"/>\n",
       "<text text-anchor=\"middle\" x=\"207\" y=\"-116.7\" font-family=\"Times,serif\" font-size=\"11.00\">Concat</text>\n",
       "</a>\n",
       "</g>\n",
       "</g>\n",
       "<!-- norm&#45;&gt;concat -->\n",
       "<g id=\"edge3\" class=\"edge\">\n",
       "<title>norm&#45;&gt;concat</title>\n",
       "<path fill=\"none\" stroke=\"black\" d=\"M142.51,-135.87C151.5,-133.63 161.84,-131.04 171.53,-128.62\"/>\n",
       "<polygon fill=\"black\" stroke=\"black\" points=\"172.46,-131.99 181.31,-126.17 170.76,-125.2 172.46,-131.99\"/>\n",
       "</g>\n",
       "<!-- project_1 -->\n",
       "<g id=\"node3\" class=\"node\">\n",
       "<title>project_1</title>\n",
       "<g id=\"a_node3\"><a xlink:href=\"https://lale.readthedocs.io/en/latest/modules/lale.lib.lale.project.html\" xlink:title=\"project_1 = Project(columns={&#39;type&#39;: &#39;string&#39;})\">\n",
       "<ellipse fill=\"#b0e2ff\" stroke=\"black\" cx=\"27\" cy=\"-99\" rx=\"27\" ry=\"18\"/>\n",
       "<text text-anchor=\"middle\" x=\"27\" y=\"-95.7\" font-family=\"Times,serif\" font-size=\"11.00\">Project</text>\n",
       "</a>\n",
       "</g>\n",
       "</g>\n",
       "<!-- one_hot -->\n",
       "<g id=\"node4\" class=\"node\">\n",
       "<title>one_hot</title>\n",
       "<g id=\"a_node4\"><a xlink:href=\"https://scikit-learn.org/0.20/modules/generated/sklearn.preprocessing.OneHotEncoder.html#sklearn-preprocessing-onehotencoder\" xlink:title=\"one_hot = OneHot\">\n",
       "<ellipse fill=\"#7ec0ee\" stroke=\"black\" cx=\"117\" cy=\"-99\" rx=\"27\" ry=\"18.27\"/>\n",
       "<text text-anchor=\"middle\" x=\"117\" y=\"-101.2\" font-family=\"Times,serif\" font-size=\"11.00\">One&#45;</text>\n",
       "<text text-anchor=\"middle\" x=\"117\" y=\"-90.2\" font-family=\"Times,serif\" font-size=\"11.00\">Hot</text>\n",
       "</a>\n",
       "</g>\n",
       "</g>\n",
       "<!-- project_1&#45;&gt;one_hot -->\n",
       "<g id=\"edge2\" class=\"edge\">\n",
       "<title>project_1&#45;&gt;one_hot</title>\n",
       "<path fill=\"none\" stroke=\"black\" d=\"M54.4,-99C62.39,-99 71.31,-99 79.82,-99\"/>\n",
       "<polygon fill=\"black\" stroke=\"black\" points=\"79.92,-102.5 89.92,-99 79.92,-95.5 79.92,-102.5\"/>\n",
       "</g>\n",
       "<!-- one_hot&#45;&gt;concat -->\n",
       "<g id=\"edge4\" class=\"edge\">\n",
       "<title>one_hot&#45;&gt;concat</title>\n",
       "<path fill=\"none\" stroke=\"black\" d=\"M142.98,-104.96C151.79,-107.06 161.85,-109.47 171.32,-111.72\"/>\n",
       "<polygon fill=\"black\" stroke=\"black\" points=\"170.72,-115.18 181.26,-114.1 172.35,-108.37 170.72,-115.18\"/>\n",
       "</g>\n",
       "<!-- lr -->\n",
       "<g id=\"node6\" class=\"node\">\n",
       "<title>lr</title>\n",
       "<g id=\"a_node6\"><a xlink:href=\"https://lale.readthedocs.io/en/latest/modules/lale.lib.sklearn.logistic_regression.html\" xlink:title=\"lr = LR\">\n",
       "<ellipse fill=\"#7ec0ee\" stroke=\"black\" cx=\"297\" cy=\"-120\" rx=\"27\" ry=\"18\"/>\n",
       "<text text-anchor=\"middle\" x=\"297\" y=\"-116.7\" font-family=\"Times,serif\" font-size=\"11.00\">LR</text>\n",
       "</a>\n",
       "</g>\n",
       "</g>\n",
       "<!-- concat&#45;&gt;lr -->\n",
       "<g id=\"edge5\" class=\"edge\">\n",
       "<title>concat&#45;&gt;lr</title>\n",
       "<path fill=\"none\" stroke=\"black\" d=\"M234.4,-120C242.39,-120 251.31,-120 259.82,-120\"/>\n",
       "<polygon fill=\"black\" stroke=\"black\" points=\"252,-123.5 262,-120 252,-116.5 252,-123.5\"/>\n",
       "</g>\n",
       "<!-- abc_meta -->\n",
       "<g id=\"node7\" class=\"node\">\n",
       "<title>abc_meta</title>\n",
       "<g id=\"a_node7\"><a xlink:title=\"abc_meta = ABCMeta\">\n",
       "<ellipse fill=\"#7ec0ee\" stroke=\"black\" cx=\"297\" cy=\"-77\" rx=\"27\" ry=\"18.27\"/>\n",
       "<text text-anchor=\"middle\" x=\"297\" y=\"-79.2\" font-family=\"Times,serif\" font-size=\"11.00\">ABC&#45;</text>\n",
       "<text text-anchor=\"middle\" x=\"297\" y=\"-68.2\" font-family=\"Times,serif\" font-size=\"11.00\">Meta</text>\n",
       "</a>\n",
       "</g>\n",
       "</g>\n",
       "<!-- type -->\n",
       "<g id=\"node8\" class=\"node\">\n",
       "<title>type</title>\n",
       "<g id=\"a_node8\"><a xlink:title=\"type = type\">\n",
       "<ellipse fill=\"#7ec0ee\" stroke=\"black\" cx=\"297\" cy=\"-34\" rx=\"27\" ry=\"18\"/>\n",
       "<text text-anchor=\"middle\" x=\"297\" y=\"-30.7\" font-family=\"Times,serif\" font-size=\"11.00\">type</text>\n",
       "</a>\n",
       "</g>\n",
       "</g>\n",
       "</g>\n",
       "</svg>\n"
      ],
      "text/plain": [
       "<graphviz.dot.Digraph at 0x1a38e30d30>"
      ]
     },
     "metadata": {},
     "output_type": "display_data"
    }
   ],
   "source": [
    "auto_planned = (\n",
    "       (  Project(columns={'type': 'number'}) >> Norm\n",
    "        & Project(columns={'type': 'string'}) >> OneHot)\n",
    "    >> Concat\n",
    "    >> (LR | DecisionTreeClassifier|LinearDiscriminantAnalysis ))\n",
    "auto_planned.visualize()"
   ]
  },
  {
   "cell_type": "code",
   "execution_count": 57,
   "metadata": {},
   "outputs": [
    {
     "name": "stderr",
     "output_type": "stream",
     "text": [
      "simplifyAll: '{'default': 'gini'}' has unknown type\n",
      "simplifyAll: '{'default': 'best'}' has unknown type\n",
      "simplifyAll: '{'default': None}' has unknown type\n",
      "simplifyAll: '{'default': 2}' has unknown type\n",
      "simplifyAll: '{'default': 1}' has unknown type\n",
      "simplifyAll: '{'default': 0.0}' has unknown type\n",
      "simplifyAll: '{'default': None}' has unknown type\n",
      "simplifyAll: '{'default': None}' has unknown type\n",
      "simplifyAll: '{'default': None}' has unknown type\n",
      "simplifyAll: '{'default': 0.0}' has unknown type\n",
      "simplifyAll: '{'default': None}' has unknown type\n",
      "simplifyAll: '{'default': None}' has unknown type\n",
      "simplifyAll: '{'default': 'deprecated'}' has unknown type\n",
      "simplifyAll: '{'default': 0.0}' has unknown type\n",
      "simplifyAll: '{'default': 'svd'}' has unknown type\n",
      "simplifyAll: '{'default': None}' has unknown type\n",
      "simplifyAll: '{'default': None}' has unknown type\n",
      "simplifyAll: '{'default': None}' has unknown type\n",
      "simplifyAll: '{'default': False}' has unknown type\n",
      "simplifyAll: '{'default': 0.0001}' has unknown type\n",
      "simplifyAll: '{'default': 'gini'}' has unknown type\n",
      "simplifyAll: '{'default': 'best'}' has unknown type\n",
      "simplifyAll: '{'default': None}' has unknown type\n",
      "simplifyAll: '{'default': 2}' has unknown type\n",
      "simplifyAll: '{'default': 1}' has unknown type\n",
      "simplifyAll: '{'default': 0.0}' has unknown type\n",
      "simplifyAll: '{'default': None}' has unknown type\n",
      "simplifyAll: '{'default': None}' has unknown type\n",
      "simplifyAll: '{'default': None}' has unknown type\n",
      "simplifyAll: '{'default': 0.0}' has unknown type\n",
      "simplifyAll: '{'default': None}' has unknown type\n",
      "simplifyAll: '{'default': None}' has unknown type\n",
      "simplifyAll: '{'default': 'deprecated'}' has unknown type\n",
      "simplifyAll: '{'default': 0.0}' has unknown type\n",
      "simplifyAll: '{'default': 'svd'}' has unknown type\n",
      "simplifyAll: '{'default': None}' has unknown type\n",
      "simplifyAll: '{'default': None}' has unknown type\n",
      "simplifyAll: '{'default': None}' has unknown type\n",
      "simplifyAll: '{'default': False}' has unknown type\n",
      "simplifyAll: '{'default': 0.0001}' has unknown type\n"
     ]
    },
    {
     "name": "stdout",
     "output_type": "stream",
     "text": [
      "100%|██████████| 10/10 [01:10<00:00,  7.05s/trial, best loss: -0.8998712488858077]\n",
      "accuracy 89.5%\n",
      "Matthews correlation coeff 37.3%\n"
     ]
    }
   ],
   "source": [
    "from lale.lib.lale.hyperopt import Hyperopt\n",
    "auto_optimizer = Hyperopt(estimator=auto_planned, cv=3, max_evals=10)\n",
    "auto_trained = auto_optimizer.fit(train_X, train_y)\n",
    "auto_y = auto_trained.predict(test_X)\n",
    "print(f'accuracy {sklearn.metrics.accuracy_score(test_y, auto_y):.1%}')\n",
    "print(f'Matthews correlation coeff {sklearn.metrics.matthews_corrcoef(test_y, auto_y):.1%}')"
   ]
  },
  {
   "cell_type": "code",
   "execution_count": 58,
   "metadata": {},
   "outputs": [
    {
     "data": {
      "image/svg+xml": [
       "<?xml version=\"1.0\" encoding=\"UTF-8\" standalone=\"no\"?>\n",
       "<!DOCTYPE svg PUBLIC \"-//W3C//DTD SVG 1.1//EN\"\n",
       " \"http://www.w3.org/Graphics/SVG/1.1/DTD/svg11.dtd\">\n",
       "<!-- Generated by graphviz version 2.43.0 (0)\n",
       " -->\n",
       "<!-- Title: cluster:(root) Pages: 1 -->\n",
       "<svg width=\"332pt\" height=\"87pt\"\n",
       " viewBox=\"0.00 0.00 332.00 87.38\" xmlns=\"http://www.w3.org/2000/svg\" xmlns:xlink=\"http://www.w3.org/1999/xlink\">\n",
       "<g id=\"graph0\" class=\"graph\" transform=\"scale(1 1) rotate(0) translate(4 83.38)\">\n",
       "<title>cluster:(root)</title>\n",
       "<g id=\"a_graph0\"><a xlink:title=\"(root) = ...\">\n",
       "<polygon fill=\"white\" stroke=\"transparent\" points=\"-4,4 -4,-83.38 328,-83.38 328,4 -4,4\"/>\n",
       "</a>\n",
       "</g>\n",
       "<!-- project_0 -->\n",
       "<g id=\"node1\" class=\"node\">\n",
       "<title>project_0</title>\n",
       "<g id=\"a_node1\"><a xlink:href=\"https://lale.readthedocs.io/en/latest/modules/lale.lib.lale.project.html\" xlink:title=\"project_0 = Project(columns={&#39;type&#39;: &#39;number&#39;})\">\n",
       "<ellipse fill=\"white\" stroke=\"black\" cx=\"27\" cy=\"-61.38\" rx=\"27\" ry=\"18\"/>\n",
       "<text text-anchor=\"middle\" x=\"27\" y=\"-58.08\" font-family=\"Times,serif\" font-size=\"11.00\">Project</text>\n",
       "</a>\n",
       "</g>\n",
       "</g>\n",
       "<!-- norm -->\n",
       "<g id=\"node2\" class=\"node\">\n",
       "<title>norm</title>\n",
       "<g id=\"a_node2\"><a xlink:href=\"https://scikit-learn.org/0.20/modules/generated/sklearn.preprocessing.Normalizer.html#sklearn-preprocessing-normalizer\" xlink:title=\"norm = Norm(norm=&#39;max&#39;)\">\n",
       "<ellipse fill=\"white\" stroke=\"black\" cx=\"117\" cy=\"-61.38\" rx=\"27\" ry=\"18\"/>\n",
       "<text text-anchor=\"middle\" x=\"117\" y=\"-58.08\" font-family=\"Times,serif\" font-size=\"11.00\">Norm</text>\n",
       "</a>\n",
       "</g>\n",
       "</g>\n",
       "<!-- project_0&#45;&gt;norm -->\n",
       "<g id=\"edge1\" class=\"edge\">\n",
       "<title>project_0&#45;&gt;norm</title>\n",
       "<path fill=\"none\" stroke=\"black\" d=\"M54.4,-61.38C62.39,-61.38 71.31,-61.38 79.82,-61.38\"/>\n",
       "<polygon fill=\"black\" stroke=\"black\" points=\"79.92,-64.88 89.92,-61.38 79.92,-57.88 79.92,-64.88\"/>\n",
       "</g>\n",
       "<!-- concat -->\n",
       "<g id=\"node5\" class=\"node\">\n",
       "<title>concat</title>\n",
       "<g id=\"a_node5\"><a xlink:href=\"https://lale.readthedocs.io/en/latest/modules/lale.lib.lale.concat_features.html\" xlink:title=\"concat = Concat()\">\n",
       "<ellipse fill=\"white\" stroke=\"black\" cx=\"207\" cy=\"-39.38\" rx=\"27\" ry=\"18\"/>\n",
       "<text text-anchor=\"middle\" x=\"207\" y=\"-36.08\" font-family=\"Times,serif\" font-size=\"11.00\">Concat</text>\n",
       "</a>\n",
       "</g>\n",
       "</g>\n",
       "<!-- norm&#45;&gt;concat -->\n",
       "<g id=\"edge3\" class=\"edge\">\n",
       "<title>norm&#45;&gt;concat</title>\n",
       "<path fill=\"none\" stroke=\"black\" d=\"M142.51,-55.26C151.5,-53.01 161.84,-50.43 171.53,-48\"/>\n",
       "<polygon fill=\"black\" stroke=\"black\" points=\"172.46,-51.38 181.31,-45.56 170.76,-44.59 172.46,-51.38\"/>\n",
       "</g>\n",
       "<!-- project_1 -->\n",
       "<g id=\"node3\" class=\"node\">\n",
       "<title>project_1</title>\n",
       "<g id=\"a_node3\"><a xlink:href=\"https://lale.readthedocs.io/en/latest/modules/lale.lib.lale.project.html\" xlink:title=\"project_1 = Project(columns={&#39;type&#39;: &#39;string&#39;})\">\n",
       "<ellipse fill=\"white\" stroke=\"black\" cx=\"27\" cy=\"-18.38\" rx=\"27\" ry=\"18\"/>\n",
       "<text text-anchor=\"middle\" x=\"27\" y=\"-15.08\" font-family=\"Times,serif\" font-size=\"11.00\">Project</text>\n",
       "</a>\n",
       "</g>\n",
       "</g>\n",
       "<!-- one_hot -->\n",
       "<g id=\"node4\" class=\"node\">\n",
       "<title>one_hot</title>\n",
       "<g id=\"a_node4\"><a xlink:href=\"https://scikit-learn.org/0.20/modules/generated/sklearn.preprocessing.OneHotEncoder.html#sklearn-preprocessing-onehotencoder\" xlink:title=\"one_hot = OneHot()\">\n",
       "<ellipse fill=\"white\" stroke=\"black\" cx=\"117\" cy=\"-18.38\" rx=\"27\" ry=\"18.27\"/>\n",
       "<text text-anchor=\"middle\" x=\"117\" y=\"-20.58\" font-family=\"Times,serif\" font-size=\"11.00\">One&#45;</text>\n",
       "<text text-anchor=\"middle\" x=\"117\" y=\"-9.58\" font-family=\"Times,serif\" font-size=\"11.00\">Hot</text>\n",
       "</a>\n",
       "</g>\n",
       "</g>\n",
       "<!-- project_1&#45;&gt;one_hot -->\n",
       "<g id=\"edge2\" class=\"edge\">\n",
       "<title>project_1&#45;&gt;one_hot</title>\n",
       "<path fill=\"none\" stroke=\"black\" d=\"M54.4,-18.38C62.39,-18.38 71.31,-18.38 79.82,-18.38\"/>\n",
       "<polygon fill=\"black\" stroke=\"black\" points=\"79.92,-21.88 89.92,-18.38 79.92,-14.88 79.92,-21.88\"/>\n",
       "</g>\n",
       "<!-- one_hot&#45;&gt;concat -->\n",
       "<g id=\"edge4\" class=\"edge\">\n",
       "<title>one_hot&#45;&gt;concat</title>\n",
       "<path fill=\"none\" stroke=\"black\" d=\"M142.98,-24.35C151.79,-26.45 161.85,-28.85 171.32,-31.11\"/>\n",
       "<polygon fill=\"black\" stroke=\"black\" points=\"170.72,-34.56 181.26,-33.48 172.35,-27.76 170.72,-34.56\"/>\n",
       "</g>\n",
       "<!-- lr -->\n",
       "<g id=\"node6\" class=\"node\">\n",
       "<title>lr</title>\n",
       "<g id=\"a_node6\"><a xlink:href=\"https://lale.readthedocs.io/en/latest/modules/lale.lib.sklearn.logistic_regression.html\" xlink:title=\"lr = LR(C=10618.818622619909, multi_class=&#39;auto&#39;, solver=&#39;newton&#45;cg&#39;, tol=0.09200172255146725)\">\n",
       "<ellipse fill=\"white\" stroke=\"black\" cx=\"297\" cy=\"-39.38\" rx=\"27\" ry=\"18\"/>\n",
       "<text text-anchor=\"middle\" x=\"297\" y=\"-36.08\" font-family=\"Times,serif\" font-size=\"11.00\">LR</text>\n",
       "</a>\n",
       "</g>\n",
       "</g>\n",
       "<!-- concat&#45;&gt;lr -->\n",
       "<g id=\"edge5\" class=\"edge\">\n",
       "<title>concat&#45;&gt;lr</title>\n",
       "<path fill=\"none\" stroke=\"black\" d=\"M234.4,-39.38C242.39,-39.38 251.31,-39.38 259.82,-39.38\"/>\n",
       "<polygon fill=\"black\" stroke=\"black\" points=\"259.92,-42.88 269.92,-39.38 259.92,-35.88 259.92,-42.88\"/>\n",
       "</g>\n",
       "</g>\n",
       "</svg>\n"
      ],
      "text/plain": [
       "<graphviz.dot.Digraph at 0x1a38daabe0>"
      ]
     },
     "metadata": {},
     "output_type": "display_data"
    }
   ],
   "source": [
    "auto_trained.get_pipeline().visualize()"
   ]
  },
  {
   "cell_type": "code",
   "execution_count": 59,
   "metadata": {},
   "outputs": [
    {
     "data": {
      "text/markdown": [
       "```python\n",
       "project_0 = Project(columns={'type': 'number'})\n",
       "norm = Norm(norm='max')\n",
       "project_1 = Project(columns={'type': 'string'})\n",
       "lr = LR(C=10618.818622619909, multi_class='auto', solver='newton-cg', tol=0.09200172255146725)\n",
       "pipeline = ((project_0 >> norm) & (project_1 >> OneHot())) >> Concat() >> lr\n",
       "```"
      ],
      "text/plain": [
       "<IPython.core.display.Markdown object>"
      ]
     },
     "metadata": {},
     "output_type": "display_data"
    }
   ],
   "source": [
    "# lale predicts the best hyperparameters\n",
    "auto_trained.get_pipeline().pretty_print(ipython_display=True, show_imports=False)"
   ]
  },
  {
   "cell_type": "code",
   "execution_count": 60,
   "metadata": {},
   "outputs": [
    {
     "name": "stdout",
     "output_type": "stream",
     "text": [
      "              precision    recall  f1-score   support\n",
      "\n",
      "           0       0.91      0.98      0.94     13163\n",
      "           1       0.61      0.29      0.39      1757\n",
      "\n",
      "    accuracy                           0.89     14920\n",
      "   macro avg       0.76      0.63      0.67     14920\n",
      "weighted avg       0.88      0.89      0.88     14920\n",
      "\n"
     ]
    }
   ],
   "source": [
    "print(classification_report(test_y,auto_y))"
   ]
  },
  {
   "cell_type": "code",
   "execution_count": null,
   "metadata": {},
   "outputs": [],
   "source": []
  }
 ],
 "metadata": {
  "kernelspec": {
   "display_name": "Python 3",
   "language": "python",
   "name": "python3"
  },
  "language_info": {
   "codemirror_mode": {
    "name": "ipython",
    "version": 3
   },
   "file_extension": ".py",
   "mimetype": "text/x-python",
   "name": "python",
   "nbconvert_exporter": "python",
   "pygments_lexer": "ipython3",
   "version": "3.6.8"
  }
 },
 "nbformat": 4,
 "nbformat_minor": 2
}
